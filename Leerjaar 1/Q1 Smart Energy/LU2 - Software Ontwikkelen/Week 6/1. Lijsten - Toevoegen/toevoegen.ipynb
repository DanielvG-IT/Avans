{
 "cells": [
  {
   "cell_type": "markdown",
   "metadata": {},
   "source": [
    "# Lijsten\n",
    "Binnen C# hebben we ook een datatype dat lijsten heet. Een lijst is een verzameling van elementen die je kan toevoegen, verwijderen en aanpassen. Een lijst is een dynamische datastructuur, wat betekent dat je de grootte van de lijst niet op voorhand moet bepalen. Je kan elementen toevoegen en verwijderen wanneer je wil. \n",
    "\n",
    "## Initialisatie\n",
    "Je initialiseert een lijst in C# als volgt:\n",
    "`List<T> variableName = new List<T>(){}`\n",
    "Hierin kan in essentie <T> elke soort datatype zijn. Onthoudt dat een for/foreach/while en methode niet op de plek van T kunnen worden gezet. Voor nu houden we ons vooral bezig met string en int. Andere datatypes zijn buiten scope.\n",
    "Zeg dat we een lijst met int hebben die opbrengst van de zonnepanelen per min in wattuur aangeven. Dat zal als volgt eruitzien:\n",
    "`List<int> SolarProfits = new List<int>{10, 4, 9, 12, 90, 165}`\n",
    "\n",
    "Een lege lijst aanmaken kan uiteraard ook door:\n",
    "`List<int> SolarProfits = new List<int>(); (Nieuwe schrijfwijze: List<int> SolarProfits = [];)`\n"
   ]
  },
  {
   "cell_type": "markdown",
   "metadata": {},
   "source": [
    "## Toevoegen\n",
    "Om nieuwe opbrengsten toe te voegen aan een bestaande lijst, kunnen we gebruik maken van de `List<T>.Add(T item)` methode. Met deze methode kunnen we 1 item per keer toevoegen aan de lijst. Gegeven SolarProfits voegen we zo extra items toe:"
   ]
  },
  {
   "cell_type": "code",
   "execution_count": null,
   "metadata": {
    "dotnet_interactive": {
     "language": "csharp"
    },
    "polyglot_notebook": {
     "kernelName": "csharp"
    }
   },
   "outputs": [],
   "source": [
    "List<int> SolarProfits = new List<int>{10, 4, 9, 12, 90, 165}; // inclusief data\n",
    "\n",
    "SolarProfits.Add(100);\n",
    "SolarProfits.Add(12);\n",
    "SolarProfits.Add(1000);\n",
    "SolarProfits.Add(29);\n"
   ]
  },
  {
   "cell_type": "code",
   "execution_count": null,
   "metadata": {
    "dotnet_interactive": {
     "language": "csharp"
    },
    "polyglot_notebook": {
     "kernelName": "csharp"
    }
   },
   "outputs": [],
   "source": [
    "List<int> SolarProfits = new List<int>(); // leeg\n",
    "\n",
    "SolarProfits.Add(100);\n",
    "SolarProfits.Add(12);\n",
    "SolarProfits.Add(1000);\n",
    "SolarProfits.Add(29);\n"
   ]
  },
  {
   "cell_type": "markdown",
   "metadata": {},
   "source": [
    "Zo kunnen we ook een lijst maken met woorden."
   ]
  },
  {
   "cell_type": "code",
   "execution_count": null,
   "metadata": {
    "dotnet_interactive": {
     "language": "csharp"
    },
    "polyglot_notebook": {
     "kernelName": "csharp"
    }
   },
   "outputs": [],
   "source": [
    "List<string> Statussen = []; // leeg\n",
    "\n",
    "Statussen.Add(\"Begin\");\n",
    "Statussen.Add(\"Bezig\");\n",
    "Statussen.Add(\"Einde\");\n",
    "\n"
   ]
  },
  {
   "cell_type": "markdown",
   "metadata": {},
   "source": [
    "# Opdrachten"
   ]
  },
  {
   "cell_type": "markdown",
   "metadata": {},
   "source": [
    "## Opdracht 1\n",
    "\n",
    "Maak een programma waarin je een lege lijst van strings aanmaakt.\n",
    "Je vraagt de gebruiker een woord in te voeren en blijft dit net zolang doen tot de gebruiker 'stop' invoert. Zodra de gebruiker dit heeft gedaan laat je alle ingevoerde woorden achter elkaar zien met een spatie tussen de woorden. "
   ]
  },
  {
   "cell_type": "code",
   "execution_count": null,
   "metadata": {
    "dotnet_interactive": {
     "language": "csharp"
    },
    "polyglot_notebook": {
     "kernelName": "csharp"
    }
   },
   "outputs": [],
   "source": []
  },
  {
   "cell_type": "markdown",
   "metadata": {},
   "source": [
    "## Opdracht 2\n",
    "\n",
    "Maak twee lijsten waarin je getallen zonder decimalen kunt opslaan. Ook hier blijf je de gebruiker om getallen vragen totdat 'stop' wordt ingevoerd, in de ene lijst sla je alleen getallen op die zonder rest deelbaar zijn door 5. De overige getallen sla je op in de tweede lijst. Nadat de gebruiker stop heeft ingevoerd toon je: Onder elkaar: 'De veelvouden van vijf zijn: - de getallen naast elkaar met een spatie -' en vervolgens: 'De overige ingevoerde getallen zijn: - de getallen naast elkaar met ene spatie -' "
   ]
  },
  {
   "cell_type": "code",
   "execution_count": null,
   "metadata": {
    "dotnet_interactive": {
     "language": "csharp"
    },
    "polyglot_notebook": {
     "kernelName": "csharp"
    }
   },
   "outputs": [],
   "source": []
  }
 ],
 "metadata": {
  "kernelspec": {
   "display_name": ".NET (C#)",
   "language": "C#",
   "name": ".net-csharp"
  },
  "language_info": {
   "name": "polyglot-notebook"
  },
  "polyglot_notebook": {
   "kernelInfo": {
    "defaultKernelName": "csharp",
    "items": [
     {
      "aliases": [],
      "languageName": "csharp",
      "name": "csharp"
     }
    ]
   }
  }
 },
 "nbformat": 4,
 "nbformat_minor": 2
}
