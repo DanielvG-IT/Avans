{
 "cells": [
  {
   "cell_type": "markdown",
   "metadata": {},
   "source": [
    "# Lijst-algoritmes\n",
    "\n",
    "- Grootste waarde\n",
    "- Kleinste waarde\n",
    "- Som of product berekenen\n",
    "- Gemiddelde\n",
    "- Ontdubbelen\n",
    "- Lijst omdraaien\n",
    "- Waarde tellen\n",
    "- Verzamelingenleer - operators: union, difference, intersection\n",
    "- Gesorteerde lijsten gesorteerde union\n",
    "- Meest voorkomende naam\n",
    "- Schudden van lijst met kaarten\n",
    "- Controleer of een lijst gesorteerd is"
   ]
  },
  {
   "cell_type": "markdown",
   "metadata": {},
   "source": [
    "## Opdracht Gasmeter\n",
    "Voor onze baan bij een energie bedrijf zijn we thuis een gasmeter aan het maken.\n",
    "We hebben de gasconsumptie van ons huis van de afgelopen 10 dagen: "
   ]
  },
  {
   "cell_type": "code",
   "execution_count": null,
   "metadata": {
    "dotnet_interactive": {
     "language": "csharp"
    },
    "polyglot_notebook": {
     "kernelName": "csharp"
    }
   },
   "outputs": [],
   "source": [
    " List<double> gasConsumptionList = new List<double>\n",
    "        {\n",
    "            10.5,\n",
    "            9.8,\n",
    "            8.7,\n",
    "            7.9,\n",
    "            6.5,\n",
    "            5.2,\n",
    "            4.8,\n",
    "            4.3,\n",
    "            5.0,\n",
    "            6.1\n",
    "        };"
   ]
  },
  {
   "cell_type": "code",
   "execution_count": null,
   "metadata": {
    "dotnet_interactive": {
     "language": "csharp"
    },
    "polyglot_notebook": {
     "kernelName": "csharp"
    }
   },
   "outputs": [],
   "source": [
    "Morgen slapen er 4 mensen in je huis. Hierdoor stijgt de gasconsumptie voor de volgende dag naar 40.5 kuub. Voeg deze waarde toe aan de lijst."
   ]
  },
  {
   "cell_type": "markdown",
   "metadata": {},
   "source": [
    "Helaas blijkt dat onze gasmeter maar 10 waardes kan onthouden in het geheugen. Verwijder nu het item dat op index 0 staat."
   ]
  },
  {
   "cell_type": "markdown",
   "metadata": {},
   "source": [
    "De gasmeter heeft een knop. Hiermee worden de waardes in het geheugen op een display getoond. Maak een methode die dit mogelijk maakt. Gebruik hiervoor console.WriteLine."
   ]
  },
  {
   "cell_type": "markdown",
   "metadata": {},
   "source": [
    "Door een simpele upgrade van de meter kunnen er opeens oneindig veel waardes in. Echter moet nu een gedeelte van de historie terug gezet worden in de lijst. Houdt rekening met het idee dat de historie dus moet beginnen op index 0. "
   ]
  },
  {
   "cell_type": "code",
   "execution_count": null,
   "metadata": {
    "dotnet_interactive": {
     "language": "csharp"
    },
    "polyglot_notebook": {
     "kernelName": "csharp"
    }
   },
   "outputs": [],
   "source": [
    "List<double> gasConsumptionHistory = new List<double>\n",
    "        {\n",
    "            39.2,  \n",
    "            35.8,  \n",
    "            32.6, \n",
    "            29.3,  \n",
    "            24.7,  \n",
    "            23.1,  \n",
    "            21.8,  \n",
    "            23.9,  \n",
    "        };"
   ]
  }
 ],
 "metadata": {
  "kernelspec": {
   "display_name": ".NET (C#)",
   "language": "C#",
   "name": ".net-csharp"
  },
  "language_info": {
   "name": "polyglot-notebook"
  },
  "polyglot_notebook": {
   "kernelInfo": {
    "defaultKernelName": "csharp",
    "items": [
     {
      "aliases": [],
      "languageName": "csharp",
      "name": "csharp"
     }
    ]
   }
  }
 },
 "nbformat": 4,
 "nbformat_minor": 2
}
