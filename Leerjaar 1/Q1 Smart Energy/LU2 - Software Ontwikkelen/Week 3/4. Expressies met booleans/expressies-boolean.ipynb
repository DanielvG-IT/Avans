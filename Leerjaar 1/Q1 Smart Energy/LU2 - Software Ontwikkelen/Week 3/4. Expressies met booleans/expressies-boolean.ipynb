{
 "cells": [
  {
   "cell_type": "markdown",
   "metadata": {},
   "source": [
    "# Expressies met booleans\n",
    "\n",
    "## Vergelijken van waarden\n",
    "\n",
    "In C# worden de vergelijkingsexpressies >, <, == en != gebruikt om relaties tussen waarden te evalueren. Hier is een uitleg van wat elk van deze operators doet:\n",
    "\n",
    "- Groter dan (>)\n",
    "  - Betekenis: Controleert of de waarde aan de linkerzijde groter is dan de waarde aan de rechterzijde.\n",
    "  - Voorbeeld: `5 > 3` evalueert naar true omdat 5 groter is dan 3.\n",
    "- Kleiner dan (<)\n",
    "  - Betekenis: Controleert of de waarde aan de linkerzijde kleiner is dan de waarde aan de rechterzijde.\n",
    "  - Voorbeeld: `3 < 5` evalueert naar true omdat 3 kleiner is dan 5.\n",
    "- Gelijk aan (==)\n",
    "  - Betekenis: Controleert of de waarde aan de linkerzijde gelijk is aan de waarde aan de rechterzijde.\n",
    "  - Voorbeeld: `5 == 5` evalueert naar true omdat beide waarden gelijk zijn.\n",
    "- Niet gelijk aan (!=)\n",
    "  - Betekenis: Controleert of de waarde aan de linkerzijde niet gelijk is aan de waarde aan de rechterzijde.\n",
    "  - Voorbeeld: `5 != 3` evalueert naar true omdat 5 niet gelijk is aan 3.\n",
    "- Groter dan of gelijk aan (>=)\n",
    "  - Betekenis: Controleert of de waarde aan de linkerzijde groter dan of gelijk is aan de waarde aan de rechterzijde.\n",
    "  - Voorbeeld: `5 >= 5` evalueert naar true omdat 5 gelijk is aan 5. 6 >= 5 evalueert ook naar true omdat 6 groter is dan 5.\n",
    "- Kleiner dan of gelijk aan (<=)\n",
    "  - Betekenis: Controleert of de waarde aan de linkerzijde kleiner dan of gelijk is aan de waarde aan de rechterzijde.\n",
    "  - Voorbeeld: `5 <= 5` evalueert naar true omdat 5 gelijk is aan 5. 4 <= 5 evalueert ook naar true omdat 4 kleiner is dan 5.\n",
    "\n",
    "Deze vergelijkingsexpressies kun je dus in een if-statement gebruiken om beslissingen te maken, en code alleen uit te voren als aan een conditie is voldaan\n",
    "\n",
    "```csharp\n",
    "if(age >= 18)\n",
    "{\n",
    "  Console.WriteLine(\"Je bent 18 jaar of ouder\");\n",
    "}\n",
    "```"
   ]
  },
  {
   "cell_type": "markdown",
   "metadata": {},
   "source": [
    "## Logische Operatoren\n",
    "\n",
    "Om 2 boolean waarden met elkaar te combineren kunnen we naast `==` en `!=`, ook de `&&` en `||` gebruiken (spreek uit als `en` en `of` in het Nederlands, of `and` en `or` in het Engels)\n",
    "\n",
    "- Logische EN (&&)\n",
    "  - Betekenis: Controleert of beide operanden true zijn. De gehele expressie evalueert naar true als en alleen als beide operanden true zijn.\n",
    "  - Voorbeeld:\n",
    "    true && true evalueert naar true.\n",
    "    true && false evalueert naar false.\n",
    "    false && true evalueert naar false.\n",
    "    false && false evalueert naar false.\n",
    "- Logische OF (||)\n",
    "  - Betekenis: Controleert of minstens één van de operanden true is. De gehele expressie evalueert naar true als minstens één operand true is.\n",
    "  - Voorbeeld:\n",
    "    true || true evalueert naar true.\n",
    "    true || false evalueert naar true.\n",
    "    false || true evalueert naar true.\n",
    "    false || false evalueert naar false.\n",
    "\n",
    "Deze operatoren zijn natuurlijk te combineren\n",
    "`if ((a > b && c < d) || (e == f))`: Voer bepaalde code uit als zowel a groter is dan b en c kleiner is dan d, of als e gelijk is aan f."
   ]
  },
  {
   "cell_type": "markdown",
   "metadata": {},
   "source": [
    "## Opdracht 1\n",
    "Maak een programma dat aangeeft of het vriest."
   ]
  },
  {
   "cell_type": "code",
   "execution_count": 14,
   "metadata": {
    "dotnet_interactive": {
     "language": "csharp"
    },
    "polyglot_notebook": {
     "kernelName": "csharp"
    }
   },
   "outputs": [
    {
     "name": "stdout",
     "output_type": "stream",
     "text": [
      "Het vries niet vandaag!\r\n"
     ]
    }
   ],
   "source": [
    "float temperatuur = 12.5f;\n",
    "\n",
    "if (temperatuur <= 0f) { \n",
    "  Console.WriteLine(\"Het vries buiten. Trek een dikke jas aan!\");\n",
    "}\n",
    "\n",
    "else {\n",
    "Console.WriteLine(\"Het vries niet vandaag!\");\n",
    "};"
   ]
  },
  {
   "cell_type": "markdown",
   "metadata": {},
   "source": [
    "## Opdracht 2\n",
    "Maak een programma dat aangeeft of een getal even of oneven is\n"
   ]
  },
  {
   "cell_type": "code",
   "execution_count": null,
   "metadata": {
    "dotnet_interactive": {
     "language": "csharp"
    },
    "polyglot_notebook": {
     "kernelName": "csharp"
    }
   },
   "outputs": [],
   "source": [
    "Console.WriteLine(\"Vul een nummer in\");\n",
    "\n",
    "var inputNumber = Console.ReadLine();\n",
    "var number = int.Parse(inputNumber);\n",
    "\n",
    "if (number % 2 == 0)\n",
    "{\n",
    "  Console.WriteLine(\"Het ingevulde nummer is een even getal\");\n",
    "}\n",
    "else\n",
    "{\n",
    "  Console.WriteLine(\"Het ingevulde nummer is een oneven getal\");\n",
    "}"
   ]
  },
  {
   "cell_type": "markdown",
   "metadata": {},
   "source": [
    "## Opdracht 3\n",
    "Maak een programma dat aangeeft of iemand ouder is dan 18, gebaseerd op zijn geboortejaar"
   ]
  },
  {
   "cell_type": "code",
   "execution_count": 2,
   "metadata": {
    "dotnet_interactive": {
     "language": "csharp"
    },
    "polyglot_notebook": {
     "kernelName": "csharp"
    }
   },
   "outputs": [
    {
     "data": {
      "text/html": [
       "<span>Black</span>"
      ]
     },
     "metadata": {},
     "output_type": "display_data"
    }
   ],
   "source": [
    "Console.WriteLine(\"Wat is uw geboortejaar?\");\n",
    "\n",
    "string inputBirthYear = Console.ReadLine();\n",
    "int birthYear = int.Parse(inputBirthYear);\n",
    "int currentYear = DateTime.Now.Year;\n",
    "int age = currentYear - birthYear;\n",
    "\n",
    "if (age >= 18)\n",
    "{\n",
    "  Console.WriteLine(\"Welkom in de bar. Neem gerust een drankje!\");\n",
    "}\n",
    "else if (age < -100)\n",
    "{\n",
    "  Console.WriteLine(\"U bent al erg oud, of u heeft een verkeerd geboortejaar ingevuld!\");\n",
    "}\n",
    "else\n",
    "{\n",
    "  Console.WriteLine(\"Wij schenken geen alcohol aan mensen onder de 18!\");\n",
    "}"
   ]
  }
 ],
 "metadata": {
  "kernelspec": {
   "display_name": ".NET (C#)",
   "language": "C#",
   "name": ".net-csharp"
  },
  "language_info": {
   "name": "polyglot-notebook"
  },
  "polyglot_notebook": {
   "kernelInfo": {
    "defaultKernelName": "csharp",
    "items": [
     {
      "aliases": [],
      "languageName": "csharp",
      "name": "csharp"
     }
    ]
   }
  }
 },
 "nbformat": 4,
 "nbformat_minor": 2
}
