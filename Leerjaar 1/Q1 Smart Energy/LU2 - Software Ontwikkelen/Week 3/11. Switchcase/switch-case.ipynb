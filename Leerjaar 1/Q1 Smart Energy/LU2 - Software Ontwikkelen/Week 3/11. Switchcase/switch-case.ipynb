{
 "cells": [
  {
   "cell_type": "markdown",
   "metadata": {
    "dotnet_interactive": {
     "language": "csharp"
    },
    "polyglot_notebook": {
     "kernelName": "csharp"
    }
   },
   "source": [
    "# Switch - Case\n",
    "\n",
    "\n",
    "Soms wil je, op basis van de waarde van een variable, bepaalde acties uitvoeren.\n",
    "\n",
    "Denk bijvoorbeeld aan de kleur van een verkeerslicht, waarop je als verkeersdeelnemer moet reageren:\n",
    "\n",
    "|Kleur|Actie|\n",
    "|-----|-----|\n",
    "|Rood|Stoppen|\n",
    "|Oranje|Afremmen|\n",
    "|Groen|Doorgaan|\n",
    "\n",
    "Je zou dit natuurlijk kunnen oplossen met *if*-statements zoals:"
   ]
  },
  {
   "cell_type": "code",
   "execution_count": null,
   "metadata": {
    "dotnet_interactive": {
     "language": "csharp"
    },
    "polyglot_notebook": {
     "kernelName": "csharp"
    }
   },
   "outputs": [],
   "source": [
    "string kleur = \"Groen\";\n",
    "\n",
    "if (kleur == \"Groen\")\n",
    "{\n",
    "    // Doorgaan\n",
    "    Console.WriteLine(\"Groen\");\n",
    "}\n",
    "\n",
    "if (kleur == \"Oranje\")\n",
    "{\n",
    "    // Afremmen\n",
    "    Console.WriteLine(\"Oranje\");\n",
    "}\n",
    "\n",
    "if (kleur == \"Rood\")\n",
    "{\n",
    "    // Stoppen\n",
    "    Console.WriteLine(\"Rood\");\n",
    "}\n"
   ]
  },
  {
   "cell_type": "markdown",
   "metadata": {},
   "source": [
    "Je ziet dat dit al gauw onoverzichtelijke code gaat opleveren. Zeker als er meer dan 3 mogelijke waarden zijn.\n",
    "\n",
    "Daarom kom je in veel programmeertalen het zogenaamde *switch*-statement tegen.\n",
    "\n",
    "Een *switch*-statement kiest, op basis van de waarde van een variabele, het juiste pad van acties.\n",
    "\n",
    "Bijvoorbeeld:\n"
   ]
  },
  {
   "cell_type": "code",
   "execution_count": null,
   "metadata": {
    "dotnet_interactive": {
     "language": "csharp"
    },
    "polyglot_notebook": {
     "kernelName": "csharp"
    }
   },
   "outputs": [],
   "source": [
    "string kleur = \"Oranje\";\n",
    "\n",
    "switch(kleur)\n",
    "{\n",
    "    case \"Rood\":\n",
    "        Console.WriteLine(\"Stoppen\");\n",
    "        break;\n",
    "    case \"Oranje\":\n",
    "        Console.WriteLine(\"Afremmen\");\n",
    "        break;\n",
    "    case \"Groen\":\n",
    "        Console.WriteLine(\"Doorgaan\");\n",
    "        break;\n",
    "}"
   ]
  },
  {
   "cell_type": "markdown",
   "metadata": {},
   "source": [
    "Deze code geeft als restultaat: _Afremmen_\n",
    "\n",
    "Het *break*-statement binnen de *case* voorkomt dat er verdere operaties worden uitgevoerd.\n",
    "\n",
    "Zou je de *break* bij _Rood_ weglaten, dan zou het resultaat zijn:\n",
    "\n",
    "_Stoppen_\n",
    "_Afremmen_\n",
    "\n",
    "In sommige situaties kan het dus handig zijn om *geen* *break* te hebben. Maar in de meeste gevallen is het juist *wel* nodig.\n",
    "\n",
    "*Niet vergeten dus!*"
   ]
  },
  {
   "cell_type": "markdown",
   "metadata": {},
   "source": [
    "En wat nu als het verkeerslicht defect is of niet actief?\n",
    "\n",
    "De waarde van *kleur* is dan _Geen_ of _Knippert oranje_.\n",
    "\n",
    "Als actie zou je hier _Oppassen: gevaar!_ willen geven. \n",
    "Dat geeft 2 nieuwe mogelijkheden (*cases*) in het *switch*-statement:"
   ]
  },
  {
   "cell_type": "code",
   "execution_count": null,
   "metadata": {
    "dotnet_interactive": {
     "language": "csharp"
    },
    "polyglot_notebook": {
     "kernelName": "csharp"
    }
   },
   "outputs": [],
   "source": [
    "string kleur = \"Groen\";\n",
    "\n",
    "switch(kleur)\n",
    "{\n",
    "    case \"Rood\":\n",
    "        Console.WriteLine(\"Stoppen\");\n",
    "        break;\n",
    "    case \"Oranje\":\n",
    "        Console.WriteLine(\"Afremmen\");\n",
    "        break;\n",
    "    case \"Groen\":\n",
    "        Console.WriteLine(\"Doorgaan\");\n",
    "        break;\n",
    "    case \"Geen\":\n",
    "        Console.WriteLine(\"Oppassen: gevaar!\");\n",
    "        break;\n",
    "    case \"Knippert oranje\":\n",
    "        Console.WriteLine(\"Oppassen: gevaar!\");\n",
    "        break;\n",
    "}"
   ]
  },
  {
   "cell_type": "markdown",
   "metadata": {},
   "source": [
    "Als beide paden dezelfde acties hebben, dan levert dat dubbele code op. Dat is natuurlijk niet handig, zeker als deze code op een later moment verandert, doordat bepaalde acties (niet) meer nodig zijn.\n",
    "\n",
    "Daarom kunnen *cases* ook gecombineerd worden:\n"
   ]
  },
  {
   "cell_type": "code",
   "execution_count": null,
   "metadata": {
    "dotnet_interactive": {
     "language": "csharp"
    },
    "polyglot_notebook": {
     "kernelName": "csharp"
    }
   },
   "outputs": [],
   "source": [
    "string kleur = \"Groen\";\n",
    "\n",
    "switch(kleur)\n",
    "{\n",
    "    case \"Rood\":\n",
    "        Console.WriteLine(\"Stoppen\");\n",
    "        break;\n",
    "    case \"Oranje\":\n",
    "        Console.WriteLine(\"Afremmen\");\n",
    "        break;\n",
    "    case \"Groen\":\n",
    "        Console.WriteLine(\"Doorgaan\");\n",
    "        break;\n",
    "    case \"Geen\":\n",
    "    case \"Knippert oranje\":\n",
    "        Console.WriteLine(\"Oppassen: gevaar!\");\n",
    "        break;\n",
    "}"
   ]
  },
  {
   "cell_type": "markdown",
   "metadata": {},
   "source": [
    "Eigenlijk is het natuurlijk altijd opletten bij een verkeerslicht. \n",
    "\n",
    "Dus een \"standaard\" actie zou altijd _Oppassen: gevaar!_ kunnen zijn, ongeacht de waarde van *kleur*.\n",
    "\n",
    "Hiervoor kent een *switch*-statement een speciale *case*: *default*"
   ]
  },
  {
   "cell_type": "code",
   "execution_count": null,
   "metadata": {
    "dotnet_interactive": {
     "language": "csharp"
    },
    "polyglot_notebook": {
     "kernelName": "csharp"
    }
   },
   "outputs": [],
   "source": [
    "string kleur = \"Groen\";\n",
    "\n",
    "switch(kleur)\n",
    "{\n",
    "    case \"Rood\":\n",
    "        Console.WriteLine(\"Stoppen\");\n",
    "        break;\n",
    "    case \"Oranje\":\n",
    "        Console.WriteLine(\"Afremmen\");\n",
    "        break;\n",
    "    case \"Groen\":\n",
    "        Console.WriteLine(\"Doorgaan\");\n",
    "        break;\n",
    "    default:\n",
    "        Console.WriteLine(\"Oppassen: gevaar!\");\n",
    "        break;\n",
    "}"
   ]
  },
  {
   "cell_type": "markdown",
   "metadata": {},
   "source": [
    "Een laatste punt om te weten over *switch*-statements: de scope.\n",
    "Een *switch* heeft een eigen 'scope'. Dat wil zeggen dat variablen die geinstantieerd worden binnen een *switch* alleen daar toegankelijk zijn.\n",
    "\n",
    "Bijvoorbeeld:"
   ]
  },
  {
   "cell_type": "code",
   "execution_count": null,
   "metadata": {
    "dotnet_interactive": {
     "language": "csharp"
    },
    "polyglot_notebook": {
     "kernelName": "csharp"
    }
   },
   "outputs": [],
   "source": [
    "string kleur = \"Rood\";\n",
    "int max_snelheid = 50;\n",
    "\n",
    "switch(kleur)\n",
    "{\n",
    "    case \"Rood\":\n",
    "        int max_snelheid = 0;\n",
    "        Console.WriteLine(\"Stoppen. Max snelheid: \" + max_snelheid);\n",
    "        break;\n",
    "    case \"Oranje\":\n",
    "        max_snelheid = 30;\n",
    "        Console.WriteLine(\"Afremmen. Max snelheid: \" + max_snelheid);\n",
    "        break;\n",
    "    case \"Groen\":\n",
    "        max_snelheid = 40;\n",
    "        Console.WriteLine(\"Doorgaan. Max snelheid: \" + max_snelheid);\n",
    "        break;\n",
    "    case \"Geen\":\n",
    "    case \"Knippert oranje\":\n",
    "        Console.WriteLine(\"Oppassen: gevaar!\");\n",
    "\n",
    "        break;\n",
    "}\n",
    "\n",
    "Console.WriteLine(\"Max snelheid: \" + max_snelheid);\n"
   ]
  },
  {
   "cell_type": "markdown",
   "metadata": {},
   "source": [
    "## Opdracht 1\n",
    "\n"
   ]
  },
  {
   "cell_type": "markdown",
   "metadata": {},
   "source": [
    "Schrijf een *switch*-statement waar de dagen van de week afgedrukt worden. Als invoer krijg je een getal van 1 t/m 7. In het weekend komt er de extra regel \"Het is weekend!\" bij."
   ]
  },
  {
   "cell_type": "code",
   "execution_count": 2,
   "metadata": {
    "dotnet_interactive": {
     "language": "csharp"
    },
    "polyglot_notebook": {
     "kernelName": "csharp"
    }
   },
   "outputs": [
    {
     "name": "stdout",
     "output_type": "stream",
     "text": [
      "Welke dag van de week is het? (1 = Ontbijt, 2 = Lunch, 3 = Diner)\r\n"
     ]
    }
   ],
   "source": [
    "Console.WriteLine(\"\"\"Welke dag van de week is het? (1 = Maandag, 2 = Dinsdag, 3 = Woensdag, 4 = Donderdag, 5 = Vrijdag, 6 = Zaterdag, 7 = Zondag)\"\"\");\n",
    "var gekozenDag = Convert.ToInt32(Console.ReadLine());\n",
    "\n",
    "switch (gekozenDag)\n",
    "{\n",
    "  case 1:\n",
    "    Console.WriteLine(\"Het is Maandag!\");\n",
    "    break;\n",
    "  case 2:\n",
    "    Console.WriteLine(\"Het is Dinsdag!\");\n",
    "    break;\n",
    "  case 3:\n",
    "    Console.WriteLine(\"Het is Woensdag!\");\n",
    "    break;\n",
    "  case 4:\n",
    "    Console.WriteLine(\"Het is Donderdag!\");\n",
    "    break;\n",
    "  case 5:\n",
    "    Console.WriteLine(\"Het is Vrijdag!\");\n",
    "    break;\n",
    "  case 6:\n",
    "    Console.WriteLine(\"Het is Zaterdag!\");\n",
    "    Console.WriteLine(\"Het is WEEKEND!\");\n",
    "    break;\n",
    "  case 7:\n",
    "    Console.WriteLine(\"Het is Zondag!\");\n",
    "    Console.WriteLine(\"Het is WEEKEND!\");\n",
    "    break;\n",
    "}"
   ]
  },
  {
   "cell_type": "markdown",
   "metadata": {},
   "source": [
    "## Opdracht 2\n",
    "\n",
    "Maak een simpele rekenmachine, waarbij je de berekening van 2 getallen op basis van de operator (+, -, * en /) afdrukt. Natuurlijk gebruik je daarbij een *switch*-statement."
   ]
  },
  {
   "cell_type": "code",
   "execution_count": null,
   "metadata": {
    "dotnet_interactive": {
     "language": "csharp"
    },
    "polyglot_notebook": {
     "kernelName": "csharp"
    }
   },
   "outputs": [],
   "source": [
    "Console.WriteLine(\"Vul getal 1 in:\");\n",
    "var getal1 = Convert.ToInt32(Console.ReadLine());\n",
    "\n",
    "Console.WriteLine(\"Vul de operator in: (- , + , * , / , %)\");\n",
    "var operatorr = Convert.ToString(Console.ReadLine());\n",
    "\n",
    "Console.WriteLine(\"Vul getal 2 in:\");\n",
    "var getal2 = Convert.ToInt32(Console.ReadLine());\n",
    "\n",
    "switch(operatorr) {\n",
    "  case \"-\":\n",
    "    Console.WriteLine(getal1 - getal2);\n",
    "    break;\n",
    "  case \"+\":\n",
    "    Console.WriteLine(getal1 + getal2);\n",
    "    break;\n",
    "  case \"/\":\n",
    "    Console.WriteLine(getal1 / getal2);\n",
    "    break;\n",
    "  case \"*\":\n",
    "    Console.WriteLine(getal1 * getal2);\n",
    "    break;\n",
    "  case \"%\":\n",
    "    Console.WriteLine(getal1 % getal2);\n",
    "    break;\n",
    "}"
   ]
  }
 ],
 "metadata": {
  "kernelspec": {
   "display_name": ".NET (C#)",
   "language": "C#",
   "name": ".net-csharp"
  },
  "language_info": {
   "name": "polyglot-notebook"
  },
  "polyglot_notebook": {
   "kernelInfo": {
    "defaultKernelName": "csharp",
    "items": [
     {
      "aliases": [],
      "languageName": "csharp",
      "name": "csharp"
     }
    ]
   }
  }
 },
 "nbformat": 4,
 "nbformat_minor": 2
}
