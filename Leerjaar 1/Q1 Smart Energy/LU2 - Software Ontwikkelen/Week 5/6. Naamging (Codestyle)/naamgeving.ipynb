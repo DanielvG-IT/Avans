{
 "cells": [
  {
   "cell_type": "markdown",
   "metadata": {},
   "source": [
    "# Naamgeving"
   ]
  },
  {
   "cell_type": "markdown",
   "metadata": {},
   "source": [
    "## Waarom zijn goede namen belangrijk?\n",
    "\n",
    "Bekijk onderstaande kennisclip die uitlegt waarom het kiezen van duidelijke namen belangrijk is. Het maakt de computer niets uit hoe je iets noemt in je algoritmen en computerprogramma's, maar je medeprogrammeurs wel! En jezelf ook, als je na een paar weken je eigen werk weer eens bekijkt!\n",
    "\n",
    "<iframe id=\"kaltura_player\" type=\"text/javascript\"  src='https://api.de.kaltura.com/p/10066/embedPlaykitJs/uiconf_id/23452529?iframeembed=true&entry_id=0_of7qm6xm&config[provider]={\"widgetId\":\"0_fs9z713l\"}'  style=\"width: 608px;height: 402px;border: 0;\" allowfullscreen webkitallowfullscreen mozAllowFullScreen allow=\"autoplay *; fullscreen *; encrypted-media *\" sandbox=\"allow-forms allow-same-origin allow-scripts allow-top-navigation allow-pointer-lock allow-popups allow-modals allow-orientation-lock allow-popups-to-escape-sandbox allow-presentation allow-top-navigation-by-user-activation\" title=\"Kaltura Player\"></iframe>\n"
   ]
  },
  {
   "cell_type": "markdown",
   "metadata": {},
   "source": [
    "## Afspraken maken over naamgeving\n",
    "\n",
    "Software maken (code schrijven) doe je vaak niet alleen. Daarom is het verstandig om allemaal op eenzelfde manier te coderen. Daarbij kun je bijvoorbeeld denken aan afspraken over hoe je verschillende elementen een naam geeft.\n",
    "\n",
    "Door je aan die afspraken te houden, zorg je ervoor dat jouw code leesbaar, begrijpbaar en onderhoudbaar wordt en blijft voor anderen.\n",
    "\n",
    "Die afspraken maak je dus samen met mede-studenten, collega's en andere software ontwikkelaars.\n",
    "\n",
    "Naast deze \"menselijke\" afspraken, zijn er ook regels die je mee hoort te nemen, die vanuit de verschillende tools krijgt.\n",
    "Zo is de compiler van C# \"case-sensitive\". Je moet dus goed opletten en consequent dezelfde naam, met dezelfde hoofd- kleine letters, te gebruiken. \n",
    "Een variable met de naam `xPositionCircle` is dus niet dezelfde als `XpositionCircle`.\n",
    "\n",
    "\n",
    "Voorbeelden met afspraken zoals die vanuit de C#-gemeenschap gebruikelijk zijn:\n",
    "\n",
    "|Type|Regel|Voorbeelden|\n",
    "|----|-----|-----------|\n",
    "|Variabelen|camelCase|<pre><code>string firstName;<br>DateTime startDate;</code></pre>|\n",
    "|Klasse naam|PascalCase|<pre><code>public class Student<br>{<br><br>}<br><br>public class PhoneNumber<br>{<br><br>}</code></pre>|\n",
    "|Constanten|PascalCase|<pre><code>public const double Pi = 3.14159;<br>public const int DaysInWeek = 7;<br>public const string WelcomeMessage = \"Hello, World!\";</code></pre>|\n",
    "|Methoden|PascalCase|<pre><code>public override string ToString()<br>{<br><br>}<br><br>public PhoneNumber(string countryCode, string areaCode, string number)<br>{<br><br>}</code></pre>|\n",
    "|Methode argumenten|camelCase|zie methode `PhoneNumber` hierboven|\n",
    "|Interface|begint met een 'I'|<pre><code>public interface IShapeWithArea<br>{<br><br>}<br><br>public interface IShapeWithPerimeter<br>{<br><br>}<br><br><br>public class Rectangle : IShapeWithArea, IShapeWithPerimeter<br>{<br><br>}</code></pre>|\n",
    "\n",
    "* camelCase: naam begint met een kleine letter, elk volgend zelfstandig naamwoord met een hoofdletter.\n",
    "* PascalCase: naam begint met een hoofdletter, elk volgend zelfstandig naamwoord ook."
   ]
  },
  {
   "cell_type": "markdown",
   "metadata": {},
   "source": [
    "### Algemene tips\n",
    "\n",
    "Voor alle namen die je uitdeelt geldt eigenlijk een heel logische afspraak: zorg voor een duidelijke betekenisvolle naam.\n",
    "De naam `counter` voor een variable zegt niet veel als je rechte bananen aan het tellen bent. De naam `straightBananaCounter` dan weer wel.\n",
    "\n",
    "Ga, bij het kiezen van een naam, voor duidelijkheid i.p.v. kortheid. Voor bovenstaand scenario dus niet `straightBananaCnt`. 😊\n",
    "\n",
    "Probeer afkortingen en acroniemen te voorkomen.\n",
    "\n",
    "Vermijd namen van één (1) letter. Uitzondering: een teller van een lus. Daar mag het wel 😊\n",
    "\n"
   ]
  },
  {
   "cell_type": "markdown",
   "metadata": {},
   "source": [
    "\n",
    "\n",
    "Voor meer informatie:\n",
    "\n",
    "Engels: https://learn.microsoft.com/en-us/dotnet/csharp/fundamentals/coding-style/identifier-names\n",
    "\n",
    "Nederlands: https://learn.microsoft.com/nl-nl/dotnet/csharp/fundamentals/coding-style/identifier-names"
   ]
  },
  {
   "cell_type": "markdown",
   "metadata": {},
   "source": [
    "## Opdracht\n",
    "\n",
    "Schrijf onderstaande code om zodat deze de bovenstaande regels volgt."
   ]
  },
  {
   "cell_type": "code",
   "execution_count": null,
   "metadata": {
    "dotnet_interactive": {
     "language": "csharp"
    },
    "polyglot_notebook": {
     "kernelName": "csharp"
    }
   },
   "outputs": [],
   "source": [
    "public interface iDisplay\n",
    "{\n",
    "    void Display();\n",
    "}\n",
    "\n",
    "public class Customer : iDisplay\n",
    "{\n",
    "    public int id;\n",
    "    public string name;\n",
    "\n",
    "    public Customer(int a, string b)\n",
    "    {\n",
    "        id = a;\n",
    "        name = b;\n",
    "    }\n",
    "\n",
    "    public void Display()\n",
    "    {\n",
    "        Console.WriteLine(\"ID: \" + id + \", Name: \" + name);\n",
    "    }\n",
    "}"
   ]
  }
 ],
 "metadata": {
  "kernelspec": {
   "display_name": ".NET (C#)",
   "language": "C#",
   "name": ".net-csharp"
  },
  "language_info": {
   "name": "polyglot-notebook"
  },
  "polyglot_notebook": {
   "kernelInfo": {
    "defaultKernelName": "csharp",
    "items": [
     {
      "aliases": [],
      "languageName": "csharp",
      "name": "csharp"
     }
    ]
   }
  }
 },
 "nbformat": 4,
 "nbformat_minor": 2
}
