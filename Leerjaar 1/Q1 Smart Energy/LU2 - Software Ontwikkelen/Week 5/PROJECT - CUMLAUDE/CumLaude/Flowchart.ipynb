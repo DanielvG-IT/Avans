{
 "cells": [
  {
   "cell_type": "markdown",
   "metadata": {},
   "source": [
    "```mermaid\n",
    "graph TD\n",
    "  A[Start] --> B1\n",
    "  B1[/\"Console.WriteLine(Hoeveel cijfers wil je invullen?)\"/] --> B2\n",
    "  B2[/\"int aantalCijfers = int.Parse(Console.ReadLine())\"/] --> C\n",
    "  \n",
    "  subgraph Body [FOR LOOP]\n",
    "  C{\"for (int i = 1; i =< cijfers; i++)\"} --true--> D\n",
    "  C --false--> F\n",
    "  D[/\"Console.Write($Vul getal {i} in)\"/] --> E\n",
    "  E[\"cijfer += Console.ReadLine()\"] --> C\n",
    "  end\n",
    "\n",
    "  F[decimal uitkomst = cijfer / aantalCijfers] --> G\n",
    "  G{\"if (uitkomst => 8.0)\"} --true--> H\n",
    "  G --false--> I\n",
    "  H[/\"De student heeft CUMLAUDE behaald!\"/]\n",
    "  I[/\"Helaas heeft de student GEEN cumlaude!\"/]\n",
    "\n",
    "  \n",
    "  ```"
   ]
  }
 ],
 "metadata": {
  "kernelspec": {
   "display_name": ".NET (C#)",
   "language": "C#",
   "name": ".net-csharp"
  },
  "language_info": {
   "name": "python"
  },
  "polyglot_notebook": {
   "kernelInfo": {
    "defaultKernelName": "csharp",
    "items": [
     {
      "aliases": [],
      "name": "csharp"
     }
    ]
   }
  }
 },
 "nbformat": 4,
 "nbformat_minor": 2
}
