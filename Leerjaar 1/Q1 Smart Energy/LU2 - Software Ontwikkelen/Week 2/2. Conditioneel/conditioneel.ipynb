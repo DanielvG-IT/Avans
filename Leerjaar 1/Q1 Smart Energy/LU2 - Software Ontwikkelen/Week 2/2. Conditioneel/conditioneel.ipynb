{
 "cells": [
  {
   "cell_type": "markdown",
   "metadata": {},
   "source": [
    "# Algoritmes met condities\n",
    "\n",
    "In een algoritme moeten soms stappen alleen uitgevoerd worden als aan bepaalde voorwaarden is voldaan. Een voorwaarde wordt ook wel een _conditie_ genoemd, en deze conditionele stappen zijn de basis voor de meeste algoritmes. \n",
    "\n",
    "Zo'n conditionele stap kunnen we met een ruit-symbool voorstellen in een flowchart. In het ruit-symbool zetten we een logische conditie, iets dat waar is of onwaar is. In de informatica wordt dat een booleaanse waarde genoemd, of kortweg een boolean. Tijdens de uitvoering van het algoritme wordt de waarde van de logische conditie uitgerekend, en alleen als het resultaat de waarde waar is wordt het conditionele deel van het algoritme uitgevoerd.\n",
    "\n",
    "```mermaid\n",
    "flowchart TB\n",
    "A[Zet de cake in de oven.] --> B\n",
    "B[Schakel de oven in.] --> C\n",
    "C[Wacht tot de cake klaar is.] --> D\n",
    "D[Schakel de oven uit.] --> E\n",
    "E{Oven is nog niet afgekoeld}\n",
    "E -- true --> F\n",
    "E -- false --> G\n",
    "F[Doe ovenwanten aan.] -->\n",
    "G[Haal de cake uit de oven.]\n",
    "```\n",
    "\n"
   ]
  },
  {
   "cell_type": "markdown",
   "metadata": {},
   "source": [
    "## Kennisclip\n",
    "\n",
    "Hoe kan je nagaan of je flowchart (en dus eigenlijk je algoritme) doet wat het moet doen? Je zou het aan een docent kunnen vragen, of aan je medestudenten. Da's makkelijk, maar niet handig want dan ben je van hen afhankelijk.   \n",
    "Beter is dus om je flowchart (je algoritme) zelf te **testen**. Hoe test je je flowchart als je die niet op een computer kunt uitvoeren? Daarover gaat de volgende kennisclip, dus bekijk die. Dit heb je nodig voor het maken van de opdrachten.\n",
    "\n",
    "<iframe id=\"kaltura_player\" type=\"text/javascript\"  src='https://api.de.kaltura.com/p/10066/embedPlaykitJs/uiconf_id/23452529?iframeembed=true&entry_id=0_0iw8ix1u&config[provider]={\"widgetId\":\"0_ac25ug24\"}'  style=\"width: 608px;height: 402px;border: 0;\" allowfullscreen webkitallowfullscreen mozAllowFullScreen allow=\"autoplay *; fullscreen *; encrypted-media *\" sandbox=\"allow-forms allow-same-origin allow-scripts allow-top-navigation allow-pointer-lock allow-popups allow-modals allow-orientation-lock allow-popups-to-escape-sandbox allow-presentation allow-top-navigation-by-user-activation\" title=\"Kaltura Player\"></iframe>\n",
    "\n",
    "**Opmerking**: In de kennisclip staat een groepsoefening, namelijk het vinden van fouten in de flowchart die in de kennisclip wordt getoond. Die flowchart is van een algoritme dat uit drie ingevoerde namen de korste en de langste afdrukt.   \n",
    "Maak die oefening eerst zelf, of samen met een medestudent. Vraag de docent om deze groepsoefening klassikaal te bespreken zodat je kunt controleren of jij/jullie het goed hadden."
   ]
  },
  {
   "cell_type": "markdown",
   "metadata": {},
   "source": [
    "# Opdrachten"
   ]
  },
  {
   "cell_type": "markdown",
   "metadata": {},
   "source": [
    "## Opdracht 1 - Middelste van 3 getallen\n",
    "\n",
    "### 1a - Flowchart opstellen\n",
    "\n",
    "Teken een flowchart van een algoritme dat de middelste van 3 ingevoerde getallen selecteert. Dus niet de grootste of de kleinste van de drie ingevoerde getallen maar de waarde ertussenin.\n",
    "Laat de gebruiker die 3 getalwaarden invoeren en sla ze op in drie variabelen. Noem die variabelen voor nu even a, b en c.\n",
    "\n",
    "_In een echt computerprogramma zou je ze duidelijkere namen geven, bijvoorbeeld getal1 t/m getal3 of invoerWaarde1 t/m invoerWaarde 3._\n",
    "\n",
    "Voorbeelden:\n",
    "- Invoer van 2, 11 en 7 geeft als uitvoer 7\n",
    "- Invoer van 9, 3 en 2 geeft als uitvoer 3\n",
    "- Invoer van 6, nogmaals 6 en 4 geeft als uitvoer 6\n",
    "\n",
    "### 1b - Testdata kiezen\n",
    "\n",
    "Bepaal met welke getallen je je algoritme wilt gaan testen. Kies daarvoor 3 verschillende getallen en zet die in verschillende volgorden. De uitkomst mag immers niet afhangen van de volgorde van invoer, dus we willen alle mogelijkheden controleren.\n",
    "\n",
    "**Vraag:** Hoeveel verschillende volgorden zijn er om die drie gekozen getallen in te voeren?\n",
    "\n",
    "Om zoiets uit te zoeken is het handig om een voorbeeld te nemen. Laten we het proberen met de getallen 2, 5 en 7. We maken een tabel:\n",
    "\n",
    "|nr|a|b|c|\n",
    "|---|---|---|---|\n",
    "|1|2|5|7|\n",
    "|2|2|7|5|\n",
    "|3|5|2|7|\n",
    "|4|5|7|2|\n",
    "|5|_wat komt hier?_|_en hier?_|_en hier?_|\n",
    "|6|_en hier?_| ? | ? |\n",
    "\n",
    "### 1c - Testen van je flowchart\n",
    "\n",
    "Je hebt een flowchart van je algoritme en je hebt een tabel met testdata. Dus nu ga je je algoritme testen.\n",
    "Vul daarbij met de hand (op papier of op je laptop) een tabel met de resultaten en ga na of ze kloppen met wat je zou verwachten.\n",
    "\n",
    "|test nr|invoerwaarden|verwachte uitvoer|werkelijke uitvoer|OK?|\n",
    "|-------|-------------|-----------------|------------------|---|\n",
    "|1|2, 5, 7|5| _vul hier zelf in_ | _klopt de waarde?_ |\n",
    "|2| | | | |\n",
    "|3| | | | |\n",
    "|etc.| | | | |\n",
    "\n",
    "\n",
    "Kloppen alle waarden? Gefeliciteerd!\n",
    "\n",
    "Klopt een waarde niet? Ook gefeliciteerd, je hebt zojuist door de testen een bug in je algoritme gevonden die je nu kunt fixen. Pas je algoritme (dus je flowchart) aan en test opnieuw.\n",
    "\n",
    "**Vraag:** Als je je algoritme verbeterd hebt, moet je dan **alle** waarden uit je tabel met testdata opnieuw testen, of alleen de waarde waarbij het misging? Bespreek je antwoord met de docent.\n",
    "\n"
   ]
  },
  {
   "cell_type": "markdown",
   "metadata": {},
   "source": [
    "## Opdracht 2 - Fout zoeken in een flowchart\n",
    "\n",
    "In de kennisclip over testen van flowcharts op papier staat een groepsoefening. Er staat een flowchart van een algoritme dat uit drie ingevoerde namen de kortste en de langste afdrukt. Althans, dat is de bedoeling. Maar die flowchart bevat fouten. Niet slechts schrijffouten of layoutfouten maar fouten in het algoritme zelf, in de acties die worden uitgevoerd.\n",
    "\n",
    "Aan jou de taak om die fouten op te sporen, als je dat nog niet had gedaan bij het bekijken van de kennisclip.\n",
    "Het gaat om [deze oefening](https://mymedia.avans.nl/media/TMTI-ALGRTM+Algoritmen+-+Kennisclip+-+Flowchart+testen+op+papier/0_0iw8ix1u?st=455). (Werkt direct aanklikken niet? Dan rechtsklikken om te openen in een nieuw tabblad.)\n",
    "Hier is voor het gemak nogmaals de flowchart uit de oefening:\n",
    "![flowchart kortste en langste van 3 namen, met fouten](images/kortste_en_langste_van_3_namen_met_fouten.png)\n",
    "\n",
    "Bespreek je antwoord met de docent (wellicht klassikaal)."
   ]
  }
 ],
 "metadata": {
  "kernelspec": {
   "display_name": ".NET (C#)",
   "language": "C#",
   "name": ".net-csharp"
  },
  "language_info": {
   "name": "polyglot-notebook"
  },
  "polyglot_notebook": {
   "kernelInfo": {
    "defaultKernelName": "csharp",
    "items": [
     {
      "aliases": [],
      "languageName": "csharp",
      "name": "csharp"
     }
    ]
   }
  }
 },
 "nbformat": 4,
 "nbformat_minor": 2
}
