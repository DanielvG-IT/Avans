{
 "cells": [
  {
   "cell_type": "markdown",
   "metadata": {},
   "source": [
    "# Lazy Evaluation\n",
    "\n",
    "***Lazy evaluation*** is een programmeertechniek waarbij een expressie pas wordt geëvalueerd wanneer de waarde echt nodig is. In de context van logische operatoren zoals **||**  (logische OF) en **&&** (logische EN), wordt dit ook wel *short-circuit* evaluatie genoemd.\n",
    "\n",
    "## Verschil in Lazy Evaluatie bij || en &&\n",
    "De OF-operator **||** en AND-operator **&&** gebruiken beide een andere manier van **lazy evaluation**. \n",
    "\n",
    "### Logische OF (||):\n",
    "Bij de logische OF-operator **||** stopt de evaluatie zodra een van de expressies als *true* wordt geëvalueerd, omdat de gehele expressie sowieso true zal zijn ongeacht de waarde van de overige expressies.\n",
    "\n",
    "- true || x evalueert naar true zonder x te evalueren.\n",
    "- false || x evalueert naar x."
   ]
  },
  {
   "cell_type": "code",
   "execution_count": null,
   "metadata": {
    "dotnet_interactive": {
     "language": "csharp"
    },
    "polyglot_notebook": {
     "kernelName": "csharp"
    }
   },
   "outputs": [],
   "source": [
    "bool buikRommelt = true;\n",
    "bool lekkereTrek = false;\n",
    "bool hebIkHonger = buikRommelt || lekkereTrek; // lekkereTrek wordt niet geëvalueerd omdat buikRommelt true is."
   ]
  },
  {
   "cell_type": "markdown",
   "metadata": {},
   "source": [
    "### Logische EN (&&):\n",
    "Bij de logische EN-operator **&&** stopt de evaluatie zodra een van de operanden als *false* wordt geëvalueerd, omdat de gehele expressie sowieso *false* zal zijn ongeacht de waarde van de overige expressies.\n",
    "\n",
    "- false && x evalueert naar false zonder x te evalueren.\n",
    "- true && x evalueert naar x."
   ]
  },
  {
   "cell_type": "code",
   "execution_count": null,
   "metadata": {
    "dotnet_interactive": {
     "language": "csharp"
    },
    "polyglot_notebook": {
     "kernelName": "csharp"
    }
   },
   "outputs": [],
   "source": [
    "bool waterisWarm = false;\n",
    "bool geenBliksemVoorspelt = true;\n",
    "bool kanJeZwemmen = waterisWarm && geenBliksemVoorspelt; // geenBliksemVoorspelt wordt niet gevealueerd omdat waterIsWarm false is"
   ]
  },
  {
   "cell_type": "markdown",
   "metadata": {},
   "source": [
    "## Voordelen\n",
    "1. **prestatie optimalisatie** : Doordat er minder code wordt geëvalueerd kost het minder tijd om je code te draaien. Als je een methode-aanroep in de expressie gebruikt, zal de hele methode niet uitgevoerd worden als deze niet uitgevoerd hoeft te worden door deze lazy evaluation.\n",
    "2. **reduceert memory gebruik** : Doordat je minder code uitvoert hoef je ook minder in je memory op te slaan. Wat resulteert in dat je meer memory vrij hebt voor andere processen op je computer.\n",
    "3. **kortere code**: Door randgevallen te controleren in een if, samen met de conditie die je wilt controleren, kun je meerdere if-statements combineren tot 1 regel. Dit is vooral handig bij null-waarden (komen volgende periode) of arrays (komen later deze periode)\n",
    "\n",
    "\n"
   ]
  },
  {
   "cell_type": "markdown",
   "metadata": {},
   "source": [
    "## Opdracht: Toegang systeem medewerkers voor de Avans parkeerplaats\n",
    "Het idee is dat we een klein toegang systeem gaan creeëren voor de avans parkeerplaats op basis van een paar voorwaarden. Gebruik alleen if-statements en de logische operatoren && en ||. Stel vragen aan de medewerker doormiddel [Input](../io/input.ipynb)  De docent/medewerker krijgt toegang als aan de volgende voorwaarden wordt voldaan:\n",
    "- De rol van de medewerker is docent of onderzoeker\n",
    "- Medewerker heeft een parkeerpas\n",
    "\n",
    "### Stappen\n",
    "1. Maak een variabel die de rol van de medewerker bevat\n",
    "2. Maak een variabel die aangeeft of de rol toegestaan is\n",
    "   1. Gebruik if statement om te bepalen of de rol toegang heeft tot de parkeerplaats\n",
    "3. Maak een variabel om aan te geven of de medewerker een parkeerpas heeft en geef deze een waarde\n",
    "4. Gebruik een if statement om te controleren of de medewerker toegang heeft tot de parkeerplaats"
   ]
  },
  {
   "cell_type": "code",
   "execution_count": null,
   "metadata": {
    "dotnet_interactive": {
     "language": "csharp"
    },
    "polyglot_notebook": {
     "kernelName": "csharp"
    }
   },
   "outputs": [],
   "source": [
    "string rolMedewerker = \"Docent\";\n",
    "bool rolIsToegestaan = false;\n",
    "bool heeftParkeerPas = true;\n",
    "\n",
    "if(rolMedewerker == \"Docent\") {\n",
    "    rolIsToegestaan = true;\n",
    "}\n",
    "\n",
    "// Lazy evaluation with Ternary operator\n",
    "Console.WriteLine(rolIsToegestaan == true && heeftParkeerPas == true ? \"Medewerker heeft toegang tot parkeerplaats\" : \"Parkeert u maar lekker ergens anders\");"
   ]
  }
 ],
 "metadata": {
  "kernelspec": {
   "display_name": ".NET (C#)",
   "language": "C#",
   "name": ".net-csharp"
  },
  "language_info": {
   "name": "polyglot-notebook"
  },
  "polyglot_notebook": {
   "kernelInfo": {
    "defaultKernelName": "csharp",
    "items": [
     {
      "aliases": [],
      "languageName": "csharp",
      "name": "csharp"
     }
    ]
   }
  }
 },
 "nbformat": 4,
 "nbformat_minor": 2
}
