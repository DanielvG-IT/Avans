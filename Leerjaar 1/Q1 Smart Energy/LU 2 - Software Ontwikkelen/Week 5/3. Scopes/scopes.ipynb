{
 "cells": [
  {
   "cell_type": "markdown",
   "metadata": {},
   "source": [
    "# Scopes\n",
    "\n",
    "Een *scope* geeft een omgeving (context) waarin een variable toegankelijk is.\n",
    "Buiten de grenzen van de *scope* kan een variable die gedefineerd is in die *scope* niet gelezen of geschreven worden.\n",
    "\n",
    "Het begin van een *scope*  in C#, wordt aangeduid met een accolade '{', en het einde met een '}'.\n",
    "\n",
    "Bijvoorbeeld het volgende stuk code:"
   ]
  },
  {
   "cell_type": "markdown",
   "metadata": {},
   "source": [
    "```csharp\n",
    "string program_str = \"programma\";\n",
    "\n",
    "public void Display()\n",
    "{\n",
    "    string function_str = \"Display() aangeroepen\";\n",
    "\n",
    "    Console.WriteLine(\"function_str= \" + function_str);\n",
    "    Console.WriteLine(\"program_str= \" + program_str);\n",
    "\n",
    "    // Nu gaan we 'program_str' aanpassen.\n",
    "    program_str = \"aangepast in Display()\";\n",
    "}\n",
    "\n",
    "// Wat is de waarde van 'program_str'?\n",
    "Console.WriteLine(program_str);\n",
    "\n",
    "Display();\n",
    "\n",
    "// 'function_str' is gedefineerd in de \"method\"-scope van 'Display()', dus niet toegangelijk hier.\n",
    "Console.WriteLine(\"function_str= \" + function_str); // <-- Compiler error!\n",
    "\n",
    "// Wat is de waarde van 'program_str' nu?\n",
    "Console.WriteLine(\"program_str= \" + program_str);\n",
    "```"
   ]
  },
  {
   "cell_type": "markdown",
   "metadata": {},
   "source": [
    "Dit stuk code is niet juist en dat zal de compiler dan ook duidelijk aangeven met een foutmelding.\n",
    "De methode *Display()* defineert namelijk een eigen *scope*. Alleen tijdens het uitvoeren van de methode zal *function_str* bekend en toegangelijk zijn. Dit is vooral bij het gebruik van methoden erg belangrijk, omdat je in een methode een eigen scope hebt. De variabelen die in een methode gedefinieerd worden, kunnen dus niet buiten deze methode gebruikt worden. Naast methoden, worden ook bij if- en while-statements nieuwe scopes gemaakt\n",
    "```csharp\n",
    "if(i > 5)\n",
    "{\n",
    "    int j = 10;\n",
    "}\n",
    "Console.WriteLine(j); // dit gaat fout\n",
    "```\n"
   ]
  },
  {
   "cell_type": "markdown",
   "metadata": {},
   "source": [
    "In sommige gevallen wordt een *scope*-variable, niet gedefineert tussen de accolades! Bijvoorbeeld bij een *for*-lus:"
   ]
  },
  {
   "cell_type": "code",
   "execution_count": null,
   "metadata": {
    "dotnet_interactive": {
     "language": "csharp"
    },
    "polyglot_notebook": {
     "kernelName": "csharp"
    }
   },
   "outputs": [],
   "source": [
    "for (int x = 0; x < 4; x++)\n",
    "{\n",
    "    Console.WriteLine(\"x= \"+ x);\n",
    "}"
   ]
  },
  {
   "cell_type": "markdown",
   "metadata": {},
   "source": [
    "Het is ook mogelijk zo in je code een scope te openen .Dit kun je doen om variabelen te scheiden van de rest van je code, en kan extra structuur geven in een stuk code waarbij er een aantal stappen na elkaar uitgevoerd worden met dezelfde variabelenamen. Dit komt niet veel voor in code en raden we niet aan om zelf te gebruiken, maar je kunt dit tegenkomen in bestaande code"
   ]
  },
  {
   "cell_type": "code",
   "execution_count": null,
   "metadata": {
    "dotnet_interactive": {
     "language": "csharp"
    },
    "polyglot_notebook": {
     "kernelName": "csharp"
    }
   },
   "outputs": [],
   "source": [
    "int i = 10;\n",
    "{\n",
    "    int j = 10;\n",
    "    Console.WriteLine(i + j);\n",
    "    i += j;\n",
    "}\n",
    "// i += j; // mag niet\n",
    "{\n",
    "    int j = 15;\n",
    "    Console.WriteLine(i + j);\n",
    "    i += j;\n",
    "}"
   ]
  },
  {
   "cell_type": "markdown",
   "metadata": {},
   "source": [
    "## Opdracht 1\n"
   ]
  },
  {
   "cell_type": "markdown",
   "metadata": {},
   "source": [
    "De volgende code is niet juist en zal een foutmelding geven. Pas de code aan zodat de foutmelding verdwijnt en de code compileert."
   ]
  },
  {
   "cell_type": "code",
   "execution_count": 2,
   "metadata": {
    "dotnet_interactive": {
     "language": "csharp"
    },
    "polyglot_notebook": {
     "kernelName": "csharp"
    }
   },
   "outputs": [
    {
     "name": "stdout",
     "output_type": "stream",
     "text": [
      "De omtrek van een cirkel met straal 5.3 is 33.3008821280518\n",
      "De oppervlakte van een cirkel met straal 5.3 is 88.24733763933727\n"
     ]
    }
   ],
   "source": [
    "double PI = 3.1415926535897931;\n",
    "\n",
    "public double berekenOmtrekCirkel(double straal)\n",
    "{\n",
    "    \n",
    "    double omtrek = 2 * PI * straal;\n",
    "    return omtrek;\n",
    "}\n",
    "\n",
    "public double berekenOppervlakteCirkel(double straal)\n",
    "{\n",
    "    double oppervlakte = PI * straal * straal;\n",
    "    return oppervlakte;\n",
    "}\n",
    "\n",
    "double straalCirkel1 = 5.3;\n",
    "double omtrekCirkel1 = berekenOmtrekCirkel(straalCirkel1);\n",
    "double oppervlakteCirkel1 = berekenOppervlakteCirkel(straalCirkel1);\n",
    "\n",
    "Console.WriteLine(\"De omtrek van een cirkel met straal \" + straalCirkel1 + \" is \" + omtrekCirkel1);\n",
    "Console.WriteLine(\"De oppervlakte van een cirkel met straal \" + straalCirkel1 + \" is \" + oppervlakteCirkel1);\n"
   ]
  },
  {
   "cell_type": "markdown",
   "metadata": {},
   "source": [
    "## Opdracht 2"
   ]
  },
  {
   "cell_type": "markdown",
   "metadata": {},
   "source": [
    "In de onderstaande code zijn twee methodes gedefinieerd. De methode *berekenSnelheid()* en de methode *berekenNormaleKracht()*. De eerste methode berekent de snelheid van een object na een bepaalde tijd. De tweede methode berekent de normale kracht van een object met een bepaalde massa. Vervolgens worden de twee methodes getest, om te kijken of ze correct werken. De laatste methode *berekenNormaleKracht()* geet niet de verwachte waarde terug. Pas de code aan zodat de methode *berekenNormaleKracht()* de juiste waarde teruggeeft."
   ]
  },
  {
   "cell_type": "code",
   "execution_count": 4,
   "metadata": {
    "dotnet_interactive": {
     "language": "csharp"
    },
    "polyglot_notebook": {
     "kernelName": "csharp"
    }
   },
   "outputs": [
    {
     "name": "stdout",
     "output_type": "stream",
     "text": [
      "De berekende snelheid is 49.050000000000004m/s en de verwachte snelheid is 49.050000000000004m/s. Dus de uitkomst van de methode klopt wel.\n",
      "De berekende normale kracht is 110N en de verwachte normale kracht is 110N. Dus de uitkomst van de methode klopt wel.\n"
     ]
    }
   ],
   "source": [
    "double a = 9.81;\n",
    "\n",
    "// Bereken de snelheid van een object na een bepaalde tijd\n",
    "double berekenSnelheid(double tijd)\n",
    "{\n",
    "    double snelheid = a * tijd;\n",
    "    return snelheid;\n",
    "}\n",
    "\n",
    "// Bereken de afgelegde afstand van een object na een bepaalde tijd\n",
    "double berekenNormaleKracht(double massa)\n",
    "{\n",
    "    a = 11;\n",
    "    double normaleKracht = massa * a;\n",
    "    return normaleKracht;\n",
    "}\n",
    "\n",
    "//Test methods\n",
    "double tijd = 5;\n",
    "double berekendeSnelheid = berekenSnelheid(tijd);\n",
    "double verwachteSnelheid = a * tijd;\n",
    "bool isSnelheidGelijk = (berekendeSnelheid - verwachteSnelheid) < 0.0001;\n",
    "Console.WriteLine(\"De berekende snelheid is \"+ berekendeSnelheid + \"m/s\"\n",
    "    + \" en de verwachte snelheid is \" + verwachteSnelheid + \"m/s.\"\n",
    "    + \" Dus de uitkomst van de methode klopt \" + (isSnelheidGelijk ? \"wel\" : \"niet\") + \".\"); \n",
    "\n",
    "double massa = 10;\n",
    "double berekendeNormaleKracht = berekenNormaleKracht(massa);\n",
    "double verwachteNormaleKracht = massa * a;\n",
    "bool isFnGelijk = (berekendeNormaleKracht - verwachteNormaleKracht) < 0.0001;\n",
    "Console.WriteLine(\"De berekende normale kracht is \" + berekendeNormaleKracht + \"N\"\n",
    "    + \" en de verwachte normale kracht is \" + verwachteNormaleKracht + \"N.\"\n",
    "    + \" Dus de uitkomst van de methode klopt \" + (isFnGelijk ? \"wel\" : \"niet\") + \".\");\n",
    "\n"
   ]
  }
 ],
 "metadata": {
  "kernelspec": {
   "display_name": ".NET (C#)",
   "language": "C#",
   "name": ".net-csharp"
  },
  "language_info": {
   "name": "polyglot-notebook"
  },
  "polyglot_notebook": {
   "kernelInfo": {
    "defaultKernelName": "csharp",
    "items": [
     {
      "aliases": [],
      "languageName": "csharp",
      "name": "csharp"
     }
    ]
   }
  }
 },
 "nbformat": 4,
 "nbformat_minor": 2
}
