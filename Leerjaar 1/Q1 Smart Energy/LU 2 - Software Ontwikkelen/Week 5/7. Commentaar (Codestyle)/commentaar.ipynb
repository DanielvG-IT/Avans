{
 "cells": [
  {
   "cell_type": "markdown",
   "metadata": {},
   "source": [
    "# Commentaar\n",
    "\n",
    "In code kunnen we stukken tekst zetten die genegeerd worden bij het uitvoeren van de code. Dit noemen we commentaar. In C# kunnen we op 2 manieren commentaar wegzetten.\n",
    "\n",
    "```csharp\n",
    "// deze regel is commentaar\n",
    "/* Dit is een stukje\n",
    "   van meerder regels \n",
    "   met commmentaar */\n",
    "\n",
    "   int getal = 42; // ik vond 42 een mooie waarde\n",
    "   int /* gehele getallen */ getal2 = 1337;\n",
    "```\n",
    "- Alle tekst die **na** een `//` komt is commentaar\n",
    "- Alle tekst die **tusse** `/*` en `*/` staat is commentaar\n",
    "\n",
    "Je kunt het commentaar plaatsen zoals je zelf wilt, maar voor een consistente look van je code, maak je hier afspraken voor met de mede-ontwikkelaars in een project. Sommige mensen hebben voorkeur om achter de code uit te legen wat een regel doet. Door dit per regel te doen, ontstaat er naast de code een uitleg over wat de code doet die van boven naar onder gelezen kan worden. Om code globaler van uitleg te voorzien, kan het commentaar ook vooraan op de regel gezet worden\n",
    "\n",
    "Over het algemeen wordt commentaar in code voor verschillende doelen gebruikt.\n",
    "\n",
    "- Uitleggen van code  \n",
    "  Sommige stukken code kunnen best cryptisch ogen als je het algoritme achter de code niet kent. Ook als je een stuk code schrijft, en er 2 weken later naar terug kijkt, heb je niet altijd de volledige context van dit stuk code meer paraat. Daarom is het handig om, op hoog niveau, stukken uit algoritmes uit te leggen\n",
    "  ```csharp\n",
    "  // bereken de som van twee getallen\n",
    "  int som = a + b;\n",
    "  ```\n",
    "- Documenteren van code  \n",
    "  Er zijn tools beschikbaar om code te scannen op een bepaald soort commentaar, en hiermee een losse documentatie te genereren. Binnen C# kun je dit gebruiken door voor een methode een speciaal stuk commentaar op te nemen\n",
    "  ```csharp\n",
    "  /// <summary>\n",
    "  /// Bereken de som van twee getallen.\n",
    "  /// </summary>\n",
    "  /// <param name=\"a\">Het eerste getal.</param>\n",
    "  /// <param name=\"b\">Het tweede getal.</param>\n",
    "  /// <returns>De som van de twee getallen.</returns>\n",
    "  public int Som(int a, int b)\n",
    "  {\n",
    "      return a + b;\n",
    "  }\n",
    "  ```\n",
    "  De tool kan deze velden uit de code uitlezen, en hier een net document of internetpagina van genereren. Let hierbij op dat in C# de standaard is om deze regels met `///` te laten beginnen\n",
    "- Debugging  \n",
    "  Met commentaar kan gemakkelijk een regel code tijdelijk uitgezet worden. Hierdoor wordt deze regel code dan niet uitgevoerd, maar is het erg gemakkelijk om deze regel code weer terug te zetten. Op deze manier kan tijdelijke code dus toegevoegd of verwijderd worden.\n",
    "  ```csharp\n",
    "  // Console.WriteLine(\"Debug: waarde van a is \" + a);\n",
    "  ``` \n",
    "- TODO's  \n",
    "  Commentaar kan gebruikt worden om notities te maken wat er nog moet gebeuren in een stuk code. Veel programmeeromgevingen hebben een mogelijkheid om alle commentaren die beginnen met TODO in een lijst bij elkaar te zetten.\n",
    "  ```csharp\n",
    "  // TODO: Gebruik hier een ander zoekalgoritme voor betere performance\n",
    "  ```"
   ]
  }
 ],
 "metadata": {
  "kernelspec": {
   "display_name": ".NET (C#)",
   "language": "C#",
   "name": ".net-csharp"
  },
  "language_info": {
   "name": "polyglot-notebook"
  },
  "polyglot_notebook": {
   "kernelInfo": {
    "defaultKernelName": "csharp",
    "items": [
     {
      "aliases": [],
      "languageName": "csharp",
      "name": "csharp"
     }
    ]
   }
  }
 },
 "nbformat": 4,
 "nbformat_minor": 2
}
