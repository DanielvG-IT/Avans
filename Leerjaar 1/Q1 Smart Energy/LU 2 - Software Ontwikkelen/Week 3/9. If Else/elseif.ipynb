{
 "cells": [
  {
   "cell_type": "markdown",
   "metadata": {},
   "source": [
    "# Het concept elseif\n",
    "Bij veel keuzes in een if-statement, is het ook mogelijk om een stuk code uit te voeren als de conditie niet waar is. Dit kan met het else-statement gedaan worden. \n",
    "Soms wil je aan deze else ook een conditie toevoegen daarvoor is het elseif statement. \n",
    "De code onder het elseif-statement word uitgevoerd zodra de conditie in de if niet waar is én de conditie voor het elseif wel waar is.\n",
    "\n",
    "In een flowchart kan dit aangegeven worden door een blok code weg te zetten bij de true-tak van het elseif-blok"
   ]
  },
  {
   "cell_type": "markdown",
   "metadata": {},
   "source": [
    "## Flowchart\n",
    "```mermaid\n",
    "flowchart TD\n",
    "    IC{If Condition}\n",
    "    IB([If Body])\n",
    "    EIC{Else if Condition}\n",
    "    EIB([Else if Body])\n",
    "    END[End]\n",
    "\n",
    "    IC --> |true| IB\n",
    "    IC -.-> |false| EIC\n",
    "    EIC --> |true| EIB\n",
    "    EIC -.-> |false| END\n",
    "    IB & EIB --> END\n",
    "```"
   ]
  },
  {
   "cell_type": "markdown",
   "metadata": {},
   "source": [
    "## Enkele else if\n",
    "Wanneer in je meterkast (https://nl.wikipedia.org/wiki/Meterkast) twee type meters aanwezig zijn en het type meter wilt bepalen kun je hiervoor een elseif statement gebruiken"
   ]
  },
  {
   "cell_type": "code",
   "execution_count": null,
   "metadata": {
    "dotnet_interactive": {
     "language": "csharp"
    },
    "polyglot_notebook": {
     "kernelName": "csharp"
    }
   },
   "outputs": [],
   "source": [
    "// C# code\n",
    "string meter = \"Water\";\n",
    "\n",
    "if (\"Elektriciteit\" == meter) \n",
    "{\n",
    "  Console.WriteLine(\"Elektriciteitsmeter\");\n",
    "}\n",
    "else if (\"Water\" == meter)\n",
    "{\n",
    "  Console.WriteLine(\"Watermeter\");\n",
    "}"
   ]
  },
  {
   "cell_type": "markdown",
   "metadata": {},
   "source": [
    "## Meerdere else ifs\n",
    "Wanneer in je meterkast drie type meters aanwezig zijn en het type meter wilt bepalen kun je hiervoor meerdere elseif statements gebruiken"
   ]
  },
  {
   "cell_type": "code",
   "execution_count": null,
   "metadata": {
    "dotnet_interactive": {
     "language": "csharp"
    },
    "polyglot_notebook": {
     "kernelName": "csharp"
    }
   },
   "outputs": [],
   "source": [
    "// C# code\n",
    "string meter = \"Gas\";\n",
    "\n",
    "if (\"Elektriciteit\" == meter)  \n",
    "{\n",
    "  Console.WriteLine(\"Elektriciteitsmeter\");\n",
    "}\n",
    "else if (\"Water\" == meter)\n",
    "{\n",
    "  Console.WriteLine(\"Watermeter\");\n",
    "}\n",
    "else if (\"Gas\" == meter)  \n",
    "{\n",
    "  Console.WriteLine(\"Gasmeter\");\n",
    "}"
   ]
  },
  {
   "cell_type": "markdown",
   "metadata": {},
   "source": [
    "## Het else statement\n",
    "Wanneer in je meterkast drie type meters aanwezig zijn en het type meter wilt bepalen kun je hiervoor meerdere elseif statements gebruiken. \n",
    "Een else statement kan gebruikt worden als 'default' omdat deze geen conditie bevat.\n",
    "In het onderstaande voorbeeld bevat de meterkast geen waterstof meter wat wordt afgehandeld door het else statement. "
   ]
  },
  {
   "cell_type": "code",
   "execution_count": null,
   "metadata": {
    "dotnet_interactive": {
     "language": "csharp"
    },
    "polyglot_notebook": {
     "kernelName": "csharp"
    }
   },
   "outputs": [],
   "source": [
    "// C# code\n",
    "string meter = \"Waterstof\";\n",
    "\n",
    "if (\"Elektriciteit\" == meter) \n",
    "{\n",
    "  Console.WriteLine(\"Elektriciteitsmeter\");\n",
    "}\n",
    "else if (\"Water\" == meter)\n",
    "{\n",
    "  Console.WriteLine(\"Watermeter\");\n",
    "}\n",
    "else if (\"Gas\" == meter)  \n",
    "{\n",
    "  Console.WriteLine(\"Gasmeter\");\n",
    "}\n",
    "else\n",
    "{\n",
    "  // default alle bovenstaande if / else if statements false\n",
    "  Console.WriteLine(\"onbekende meter\");  \n",
    "}"
   ]
  },
  {
   "cell_type": "markdown",
   "metadata": {},
   "source": [
    "## nested ifs\n",
    "Wanneer in je meterkast drie type meters aanwezig zijn en het type meter wilt bepalen kun je hiervoor meerdere elseif statements gebruiken. \n",
    "Als je het type meter hebt bepaald en vervolgens het tarief wilt bepalen kun je hiervoor een nested if gebruiken \n",
    "In het het onderstaande voorbeeld wordt het tarief bepaald voor een elektriciteitsmeter aan de hand van een nesterd if"
   ]
  },
  {
   "cell_type": "code",
   "execution_count": null,
   "metadata": {
    "dotnet_interactive": {
     "language": "csharp"
    },
    "polyglot_notebook": {
     "kernelName": "csharp"
    }
   },
   "outputs": [],
   "source": [
    "// C# code\n",
    "string meter = \"Elektriciteit\";\n",
    "string tarief = \"Dynamisch\";\n",
    "\n",
    "if (\"Elektriciteit\" == meter)  \n",
    "{\n",
    "  Console.WriteLine(\"Elektriciteitsmeter\");\n",
    "  if (\"Piek\" == tarief)\n",
    "  {\n",
    "    Console.WriteLine(\"Piek tarief\");\n",
    "  }\n",
    "  else if (\"Dal\" == tarief)\n",
    "  {\n",
    "    Console.WriteLine(\"Dal Tarief\");\n",
    "  }\n",
    "  else\n",
    "  {\n",
    "    Console.WriteLine(\"Dynamisch Tarief\");\n",
    "  }\n",
    "}\n",
    "else if (\"Water\" == meter)\n",
    "{\n",
    "  Console.WriteLine(\"Watermeter\");\n",
    "}\n",
    "else if (\"Gas\" == meter) \n",
    "{\n",
    "  Console.WriteLine(\"Gasmeter\");\n",
    "}\n",
    "else\n",
    "{\n",
    "  Console.WriteLine(\"onbekende meter\");  \n",
    "}"
   ]
  },
  {
   "cell_type": "markdown",
   "metadata": {},
   "source": [
    "## Opdracht 1\n",
    "Cijfer bepalen\n",
    "\n",
    "Op een toets zijn 60 punten te behalen. De beoordeling is echter in letters (A is beste, F is slechtste). \n",
    "| punten | beoordeling |\n",
    "|--------|-------------|\n",
    "| 0-29   | F           |\n",
    "| 30-34  | E           |\n",
    "| 35-39  | D           |\n",
    "| 40-50  | C           |\n",
    "| 51-55  | B           |\n",
    "| 56-60  | A           |\n",
    "\n",
    "Schrijf een programma dat op basis van het aantal punten, de juiste beoordeling uitprint"
   ]
  },
  {
   "cell_type": "code",
   "execution_count": 4,
   "metadata": {
    "dotnet_interactive": {
     "language": "csharp"
    },
    "polyglot_notebook": {
     "kernelName": "csharp"
    }
   },
   "outputs": [
    {
     "name": "stdout",
     "output_type": "stream",
     "text": [
      "Je beoordeling is B\r\n"
     ]
    }
   ],
   "source": [
    "int punten = 55;\n",
    "char beoordeling = ' ';\n",
    "\n",
    "if (punten > 0 && punten < 29) {\n",
    "  beoordeling = 'F';\n",
    "}\n",
    "else if (punten >= 30 && punten <= 34) {\n",
    "  beoordeling = 'E';\n",
    "  }\n",
    "else if (punten >= 35 && punten <= 39) {\n",
    "  beoordeling = 'D';\n",
    "}\n",
    "else if (punten >= 40 && punten <= 50) {\n",
    "  beoordeling = 'C';\n",
    "}\n",
    "else if (punten >= 51 && punten <= 55) {\n",
    "  beoordeling = 'B';\n",
    "}\n",
    "else if (punten >= 56 && punten <= 60) {\n",
    "  beoordeling = 'A';\n",
    "}\n",
    "else {\n",
    "  Console.WriteLine(\"Geen berekening kunnen maken vanwege storing!\");\n",
    "}\n",
    "\n",
    "Console.WriteLine($\"Je beoordeling is een {beoordeling}\");"
   ]
  },
  {
   "cell_type": "markdown",
   "metadata": {},
   "source": [
    "## Opdracht 2\n",
    "[fizz buzz](https://en.wikipedia.org/wiki/Fizz_buzz) is een spelletje om kinderen te leren delen. Schrijf een programma om voor een getal, volgens de regels van fizz buzz, de juiste term weer te geven. Herschrijf de opdracht uit het kopje if om de else te gebruiken"
   ]
  },
  {
   "cell_type": "code",
   "execution_count": null,
   "metadata": {
    "dotnet_interactive": {
     "language": "csharp"
    },
    "polyglot_notebook": {
     "kernelName": "csharp"
    }
   },
   "outputs": [],
   "source": [
    "/* Hetzelfde als bij If opdrachten. Meteen goed gedaan i guess */\n",
    "Console.WriteLine(\"Vul getal in!\");\n",
    "int getal = Convert.ToInt32(Console.ReadLine());\n",
    "\n",
    "if (getal % 3 == 0 && getal % 5 == 0)\n",
    "{\n",
    "  Console.WriteLine(\"Fizz Buzz\");\n",
    "}\n",
    "else if (getal % 3 == 0)\n",
    "{\n",
    "  Console.WriteLine(\"Fizz\");\n",
    "}\n",
    "\n",
    "else if (getal % 5 == 0)\n",
    "{\n",
    "  Console.WriteLine(\"Buzz\");\n",
    "}\n",
    "\n",
    "else\n",
    "{\n",
    "  Console.WriteLine(\"\"\"Oops, geen gekke woorden :/\"\"\");\n",
    "}"
   ]
  },
  {
   "cell_type": "markdown",
   "metadata": {},
   "source": [
    "# Opdracht extra-1\n",
    "Geef aan of een jaar een schrikkeljaar is of niet. Let op de uitzonderingen en zo."
   ]
  },
  {
   "cell_type": "code",
   "execution_count": null,
   "metadata": {
    "dotnet_interactive": {
     "language": "csharp"
    },
    "polyglot_notebook": {
     "kernelName": "csharp"
    }
   },
   "outputs": [],
   "source": [
    "/* Bijna hetzelfde als bij If opdrachten. */\n",
    "int jaar = Convert.ToInt32(Console.ReadLine());\n",
    "\n",
    "if(jaar % 4 == 0 || (jaar % 400 ==0 && jaar % 4000 != 0))\n",
    "{\n",
    "    Console.WriteLine(jaar + \" is een schrikkeljaar\");\n",
    "}\n",
    "else\n",
    "{\n",
    "    Console.WriteLine(jaar + \" is geen schrikkeljaar\");\n",
    "}"
   ]
  }
 ],
 "metadata": {
  "kernelspec": {
   "display_name": ".NET (C#)",
   "language": "C#",
   "name": ".net-csharp"
  },
  "language_info": {
   "name": "polyglot-notebook"
  },
  "polyglot_notebook": {
   "kernelInfo": {
    "defaultKernelName": "csharp",
    "items": [
     {
      "aliases": [],
      "languageName": "csharp",
      "name": "csharp"
     }
    ]
   }
  }
 },
 "nbformat": 4,
 "nbformat_minor": 2
}
