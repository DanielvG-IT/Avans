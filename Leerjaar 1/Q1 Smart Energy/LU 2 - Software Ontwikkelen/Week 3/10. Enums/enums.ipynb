{
 "cells": [
  {
   "cell_type": "markdown",
   "metadata": {},
   "source": [
    "# Enums\n",
    "\n",
    "Een enum (kort voor enumeratie) is een manier om een set van gerelateerde namen aan numerieke waarden te geven. Dit maakt je code leesbaarder en makkelijker te begrijpen. In plaats van te werken met getallen, kun je werken met namen die beschrijven wat die getallen betekenen.\n",
    "\n",
    "## Voorbeeld Analogie\n",
    "\n",
    "Stel je voor dat je een lijst hebt van de seizoenen in het jaar. In plaats van elk seizoen te representeren met een nummer (zoals 0 voor winter, 1 voor lente, enzovoort), kun je een enum gebruiken om de seizoenen van het jaar een naam te geven. Je zou dit ook met een string kunnen doen, met de strings \"winter\", \"lente\" enzovoort, maar het probleem is dat hierbij gemakkelijk typfouten gemaakt kunnen worden. De C# compiler controleert deze strings niet, maar een enum wordt wel gecontroleerd. Daarnaast kun je met een enum ook code-completion gebruiken in je IDE, wat het programmeren een stuk sneller en gemakkelijker maakt, waarbij je code nog steeds duidelijk leesbaar blijft.\n",
    "\n",
    "## Voorbeeld in praktijk"
   ]
  },
  {
   "cell_type": "code",
   "execution_count": null,
   "metadata": {
    "dotnet_interactive": {
     "language": "csharp"
    },
    "polyglot_notebook": {
     "kernelName": "csharp"
    }
   },
   "outputs": [],
   "source": [
    "enum Seizoen {\n",
    "    Winter, // 0\n",
    "    Lente, // 1\n",
    "    Zomer, // 2\n",
    "    Herfst // 3 \n",
    "}"
   ]
  },
  {
   "cell_type": "markdown",
   "metadata": {},
   "source": [
    "In dit voorbeeld hebben we een ***enum*** gemaakt genaamd *'seizoen'*, met de seizoenen als waarde. Standaard krijgen deze waarden de nummers 0 tot en met 3 toegewezen."
   ]
  },
  {
   "cell_type": "markdown",
   "metadata": {},
   "source": [
    "## Gebruik van een Enum\n",
    "Je kunt altijd een variabele het *enum* type meegeven en hem een ***enum*** waarde meegeven. Daarnaast kan je een *integer* omzetten naar een ***enum*** door gebruik te maken van **type-casting**."
   ]
  },
  {
   "cell_type": "code",
   "execution_count": null,
   "metadata": {
    "dotnet_interactive": {
     "language": "csharp"
    },
    "polyglot_notebook": {
     "kernelName": "csharp"
    }
   },
   "outputs": [],
   "source": [
    "enum Seizoen {\n",
    "    Winter, // 0\n",
    "    Lente, // 1\n",
    "    Zomer, // 2\n",
    "    Herfst // 3 \n",
    "}\n",
    "\n",
    "Seizoen vandaag = Seizoen.Lente;\n",
    "Console.WriteLine(vandaag);\n",
    "\n",
    "int winter = 0;\n",
    "Console.WriteLine(winter); // output is 0\n",
    "\n",
    "// hier geven we C# aan dat we willen dat de int wordt veranderd in een Seizoen enum\n",
    "Seizoen winterInEnum = (Seizoen)winter;\n",
    "Console.WriteLine(winterInEnum) // print Winter\n",
    "\n",
    "\n"
   ]
  },
  {
   "cell_type": "markdown",
   "metadata": {},
   "source": [
    "## Opdracht 1\n",
    "\n",
    "Gebruik enums om een string te genereren. De gewenste output in de console wordt bijv.: \"Volgende maaltijd: Lunch op: Dinsdag. Eet smakelijk!\""
   ]
  },
  {
   "cell_type": "code",
   "execution_count": 3,
   "metadata": {
    "dotnet_interactive": {
     "language": "csharp"
    },
    "polyglot_notebook": {
     "kernelName": "csharp"
    }
   },
   "outputs": [],
   "source": [
    "using System;\n",
    "\n",
    "class Program\n",
    "{\n",
    "  enum weekDagen\n",
    "  {\n",
    "    Maandag = 1,\n",
    "    Dinsdag,\n",
    "    Woensdag,\n",
    "    Donderdag,\n",
    "    Vrijdag,\n",
    "    Zaterdag,\n",
    "    Zondag\n",
    "  }\n",
    "\n",
    "  enum maaltijden\n",
    "  {\n",
    "    Ontbijt = 1,\n",
    "    Lunch,\n",
    "    Diner\n",
    "  }\n",
    "\n",
    "  static void Main(string[] args)\n",
    "  {\n",
    "    Console.WriteLine(\"Welke maaltijd ga je eten? (1 = Ontbijt, 2 = Lunch, 3 = Diner)\");\n",
    "    var volgendeMaaltijd = Convert.ToInt32(Console.ReadLine().ToLower());\n",
    "\n",
    "    Console.WriteLine(\"Wanneer ga je deze maaltijd eten? (1 = Maandag, 2 = Dinsdag, 3 = Woensdag, 4 = Donderdag, 5 = Vrijdag, 6 = Zaterdag, 7 = Zondag)\");\n",
    "    var dagVolgendeMaaltijd = Convert.ToInt32(Console.ReadLine().ToLower());\n",
    "\n",
    "    // Casting integers naar enums\n",
    "    maaltijden gekozenMaaltijd = (maaltijden)volgendeMaaltijd;\n",
    "    weekDagen gekozenDag = (weekDagen)dagVolgendeMaaltijd;\n",
    "\n",
    "    // Output van de gekozen maaltijd en dag\n",
    "    Console.WriteLine($\"Je gaat {gekozenMaaltijd} eten op {gekozenDag}.\");\n",
    "  }\n",
    "}\n"
   ]
  }
 ],
 "metadata": {
  "kernelspec": {
   "display_name": ".NET (C#)",
   "language": "C#",
   "name": ".net-csharp"
  },
  "language_info": {
   "name": "polyglot-notebook"
  },
  "polyglot_notebook": {
   "kernelInfo": {
    "defaultKernelName": "csharp",
    "items": [
     {
      "aliases": [],
      "languageName": "csharp",
      "name": "csharp"
     }
    ]
   }
  }
 },
 "nbformat": 4,
 "nbformat_minor": 2
}
