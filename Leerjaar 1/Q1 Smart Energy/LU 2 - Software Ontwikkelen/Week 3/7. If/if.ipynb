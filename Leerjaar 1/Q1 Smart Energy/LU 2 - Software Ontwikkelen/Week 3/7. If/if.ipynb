{
 "cells": [
  {
   "cell_type": "markdown",
   "metadata": {},
   "source": [
    "# If-condities\n",
    "\n",
    "De meeste algoritmes werken op basis van keuzes. Hierbij kunnen er verschillende dingen gebeuren op basis van de keuzes die een algoritme maakt. Aan de basis van deze keuzes staat het if-statement. Het if-statement krijgt een expressie (de conditie) mee die waar of niet waar is, en op basis hiervan wordt een keuze gemaakt. Hierna kan een bepaald stuk code wel of niet uitgevoerd worden."
   ]
  },
  {
   "cell_type": "markdown",
   "metadata": {},
   "source": [
    "## In flowcharts\n",
    "\n",
    "Deze keuze kun je in een flowchart duidelijk laten zien doordat de verschillende code-paden ook 2 lijnen zijn. Voor de keuze zelf wordt een ruit-symbool gebruikt, waar de conditie-expressie in staat.\n",
    "\n",
    "```mermaid\n",
    "flowchart LR\n",
    "  A[double verbruik = 12.5] --> AA[zonnepaneelOpbrengst = 10.2]\n",
    "  AA --> B{verbruik < zonnepaneelOpbrengst}\n",
    "  B --true--> C([\"#quot;Er zijn voldoende zonnepanelen#quot;\"])\n",
    "  B --false--> E[end]\n",
    "  C --> E\n",
    "```\n",
    "\n",
    "Uit het ruit-symbool komen 2 uitgaande lijnen, waarbij een van de pijlen gemarkeerd is met true en de ander met false. Als de conditie waar is, gaat de flow door naar het blok onder de true-pijl, zoniet gaat de flow verder naar het blok onder de false-pijl. Uiteindelijk komen deze flows altijd weer samen."
   ]
  },
  {
   "cell_type": "markdown",
   "metadata": {},
   "source": [
    "## In Code\n",
    "\n",
    "Een if-statement wordt altijd opgevolgd door een conditie, tussen haakjes, met daarna een stuk code tussen accolades. De flowchart uit het eerdere hoofdstuk is in code.\n",
    "```csharp\n",
    "double verbruik = 12.5;\n",
    "double zonnepaneelOpbrengst = 10.2;\n",
    "if(verbruik < zonnePaneelOpbrengst)\n",
    "{\n",
    "    Console.WriteLine(\"Er zijn voldoende zonnepanelen\");\n",
    "}\n",
    "```\n",
    "\n",
    "Hierbij kunnen er dus meerdere regels code in het codeblock na de if staan. Let hierbij op:\n",
    "\n",
    "- De conditie staat tussen haakjes\n",
    "  ```csharp\n",
    "  if verbruik < opbrengst // fout\n",
    "  {\n",
    "\n",
    "  }\n",
    "  ```\n",
    "- De conditie is een boolean expressie\n",
    "  ```csharp\n",
    "  if(verbruik) // fout, verbruik is een getal\n",
    "  {\n",
    "\n",
    "  }\n",
    "  ```\n",
    "- Na de if moet **geen** `;` staan\n",
    "  ```csharp\n",
    "  if(verbruik < opbrengst); // fout, de code in de if wordt hier altijd uitgevoerd\n",
    "  {\n",
    "\n",
    "  }\n",
    "  ```\n",
    "- De code die na de `if` komt, staat tussen { }\n",
    "  ```csharp\n",
    "  if verbruik < opbrengst // fout\n",
    "    Console.WriteLine(\"Hallo\");\n",
    "    Console.WriteLine(\"Wereld\"); //deze regel wordt altijd uitgevoerd\n",
    "  ```\n"
   ]
  },
  {
   "cell_type": "markdown",
   "metadata": {},
   "source": [
    "## Nesting\n",
    "\n",
    "Het is ook mogelijk om in een if-blok, weer een if-blok te zetten. Dit is een handige manier om een complex if-statement te versimpelen, en kan soms nodig zijn als het [else](else) statement gebruikt word. Op deze manier kunnen verschillende condities samen afgevangen worden."
   ]
  },
  {
   "cell_type": "code",
   "execution_count": 14,
   "metadata": {
    "dotnet_interactive": {
     "language": "csharp"
    },
    "polyglot_notebook": {
     "kernelName": "csharp"
    }
   },
   "outputs": [
    {
     "name": "stdout",
     "output_type": "stream",
     "text": [
      "Je bent volwassen.\n",
      "Je hebt geen geldig BSN.\n"
     ]
    }
   ],
   "source": [
    "int leeftijd = 25;\n",
    "bool heeftGeldigBSN = false;\n",
    "string nationaliteit = \"Maroccooooo\";\n",
    "\n",
    "if (leeftijd >= 18)\n",
    "{\n",
    "    Console.WriteLine(\"Je bent volwassen.\");\n",
    "\n",
    "    if (heeftGeldigBSN)\n",
    "    {\n",
    "        Console.WriteLine(\"Je hebt een geldig BSN.\");\n",
    "\n",
    "        if (nationaliteit == \"Nederland\")\n",
    "        {\n",
    "            Console.WriteLine(\"Je bent een Nederlandse burger.\");\n",
    "        }\n",
    "        else\n",
    "        {\n",
    "            Console.WriteLine(\"Je bent geen Nederlandse burger.\");\n",
    "        }\n",
    "    }\n",
    "    else\n",
    "    {\n",
    "        Console.WriteLine(\"Je hebt geen geldig BSN.\");\n",
    "    }\n",
    "}\n",
    "else\n",
    "{\n",
    "    Console.WriteLine(\"Je bent minderjarig.\");\n",
    "}"
   ]
  },
  {
   "cell_type": "markdown",
   "metadata": {},
   "source": [
    "## Opdracht 1\n",
    "Geef aan of het vriest (als output in de console). Als voorbeeld een flowchart"
   ]
  },
  {
   "cell_type": "markdown",
   "metadata": {},
   "source": [
    "```mermaid\n",
    "flowchart\n",
    "  A[double temperatuur = 12.5] --> B{temperatuur < 0>}\n",
    "  B --> C([\"#quot;Het vriest#quot;\"])\n",
    "  B --> E[end]\n",
    "  C --> E\n",
    "```"
   ]
  },
  {
   "cell_type": "code",
   "execution_count": 15,
   "metadata": {
    "dotnet_interactive": {
     "language": "csharp"
    },
    "polyglot_notebook": {
     "kernelName": "csharp"
    }
   },
   "outputs": [
    {
     "name": "stdout",
     "output_type": "stream",
     "text": [
      "Het vriest niet\r\n"
     ]
    }
   ],
   "source": [
    "float temperatuur = 12.5f;\n",
    "\n",
    "if (temperatuur < 0){\n",
    "  Console.WriteLine(\"Het vriest\");\n",
    "}\n",
    "else {\n",
    "  Console.WriteLine(\"Het vriest niet\");\n",
    "}"
   ]
  },
  {
   "cell_type": "markdown",
   "metadata": {},
   "source": [
    "## Opdracht 2\n",
    "Som van 4 getallen, mits getal groter dan 0 (maak ook een flowchart)\n"
   ]
  },
  {
   "cell_type": "code",
   "execution_count": 16,
   "metadata": {
    "dotnet_interactive": {
     "language": "csharp"
    },
    "polyglot_notebook": {
     "kernelName": "csharp"
    }
   },
   "outputs": [
    {
     "name": "stdout",
     "output_type": "stream",
     "text": [
      "De som van de getallen groter dan 0 is: 220\r\n"
     ]
    }
   ],
   "source": [
    "int getal1 = 10;\n",
    "int getal2 = 100;\n",
    "int getal3 = -10;\n",
    "int getal4 = 110;\n",
    "\n",
    "int som = 0;\n",
    "\n",
    "if (getal1 > 0) {\n",
    "  som += getal1;\n",
    "}\n",
    "if (getal2 > 0) {\n",
    "  som += getal2;\n",
    "}\n",
    "if (getal3 > 0) {\n",
    "  som += getal3;\n",
    "}\n",
    "if (getal4 > 0) {\n",
    "  som += getal4;\n",
    "}\n",
    "\n",
    "Console.WriteLine($\"De som van de getallen groter dan 0 is: {som}\");"
   ]
  },
  {
   "cell_type": "markdown",
   "metadata": {},
   "source": [
    "```mermaid\n",
    "flowchart\n",
    "    A(Start)\n",
    "    A --> C{getal1 > 0?}\n",
    "    C --> |True| D[Voeg getal1 toe aan var som]\n",
    "    C --> |False| F\n",
    "    D --> F{getal2 > 0?}\n",
    "    F --> |True| G[Voeg getal2 toe aan var som]\n",
    "    F --> |False| I\n",
    "    G --> I{getal3 > 0?}\n",
    "    I --> |True| J[Voeg getal3 toe aan var som]\n",
    "    I --> |False| L\n",
    "    J --> L{getal4 > 0?}\n",
    "    L --> |True| M[Voeg getal4 toe aan var som] \n",
    "    M --> N[Toon som]\n",
    "    L --> |False| N\n",
    "    N --> O[End]\n",
    "```"
   ]
  },
  {
   "cell_type": "markdown",
   "metadata": {},
   "source": [
    "## Opdracht 3\n",
    "[fizz buzz](https://en.wikipedia.org/wiki/Fizz_buzz) is een spelletje om kinderen te leren delen. Schrijf een programma om voor een getal, volgens de regels van fizz buzz, de juiste term weer te geven in de console (en maak een flowchart)"
   ]
  },
  {
   "cell_type": "code",
   "execution_count": 17,
   "metadata": {
    "dotnet_interactive": {
     "language": "csharp"
    },
    "polyglot_notebook": {
     "kernelName": "csharp"
    }
   },
   "outputs": [],
   "source": [
    "Console.WriteLine(\"Vul getal in!\");\n",
    "int getal = Convert.ToInt32(Console.ReadLine());\n",
    "\n",
    "if (getal % 3 == 0 && getal % 5 == 0)\n",
    "{\n",
    "  Console.WriteLine(\"Fizz Buzz\");\n",
    "}\n",
    "else if (getal % 3 == 0)\n",
    "{\n",
    "  Console.WriteLine(\"Fizz\");\n",
    "}\n",
    "\n",
    "else if (getal % 5 == 0)\n",
    "{\n",
    "  Console.WriteLine(\"Buzz\");\n",
    "}\n",
    "\n",
    "else\n",
    "{\n",
    "  Console.WriteLine(\"\"\"Oops, geen gekke woorden :/\"\"\");\n",
    "}"
   ]
  },
  {
   "cell_type": "markdown",
   "metadata": {},
   "source": [
    "```mermaid\n",
    "flowchart\n",
    "    A(\"Start\") --> B[\"Getal = Console.ReadLine\"/]\n",
    "    B --> C{\"getal % 3 == 0 &&\n",
    "    getal % 5 == 0\"}\n",
    "    C -- True --> D[/\"Write FizzBuzz naar console\"/]\n",
    "    D --> O[\"End\"]\n",
    "    C -- False --> F{\"getal % 3 == 0?\"}\n",
    "    F -- True --> G[/\"Write Fizz naar console\"/]\n",
    "    G --> O\n",
    "    F -- False --> I{\"getal % 5 == 0?\"}\n",
    "    I -- True --> J[/\"Write Buzz naar console\"/]\n",
    "    J --> O\n",
    "    I -- False --> K[/\"Write geen deling door 3 of 5 naar console\"/]\n",
    "    K --> O\n",
    "  ```"
   ]
  },
  {
   "cell_type": "markdown",
   "metadata": {},
   "source": [
    "## Opdracht 4\n",
    "\n",
    "In deze opdracht ga je een C# programma schrijven dat bepaalt of een gegeven jaar een schrikkeljaar is of niet.\n",
    "\n",
    "Een jaar is een schrikkeljaar als het aan één van de volgende twee voorwaarden voldoet:\n",
    "\n",
    "- Het jaar is deelbaar door 4.\n",
    "- Het jaar is deelbaar door 400, maar niet deelbaar door 4000.\n",
    "\n",
    "Probeer verschillende jaartallen in je programma te testen, zoals 2000, 1900, 2024, 2020. Er zijn een aantal jaren die lastiger zijn dan anderen om als schrikkeljaar"
   ]
  },
  {
   "cell_type": "code",
   "execution_count": 8,
   "metadata": {
    "dotnet_interactive": {
     "language": "csharp"
    },
    "polyglot_notebook": {
     "kernelName": "csharp"
    }
   },
   "outputs": [
    {
     "name": "stdout",
     "output_type": "stream",
     "text": [
      "2000 is een schrikkeljaar\n",
      "2024 is een schrikkeljaar\n",
      "1999 is geen schrikkeljaar\n",
      "2020 is een schrikkeljaar\n",
      "2004 is een schrikkeljaar\n",
      "2012 is een schrikkeljaar\n",
      "2015 is geen schrikkeljaar\n",
      "2023 is geen schrikkeljaar\n"
     ]
    }
   ],
   "source": [
    "int[] jaren = { 2000, 2024, 1999, 2020, 2004, 2012, 2015, 2023 };\n",
    "\n",
    "foreach (int jaar in jaren) {\n",
    "if(jaar % 4 == 0 || (jaar % 400 ==0 && jaar % 4000 != 0))\n",
    "{\n",
    "    Console.WriteLine(jaar + \" is een schrikkeljaar\");\n",
    "}\n",
    "else\n",
    "{\n",
    "    Console.WriteLine(jaar + \" is geen schrikkeljaar\");\n",
    "}}"
   ]
  }
 ],
 "metadata": {
  "kernelspec": {
   "display_name": ".NET (C#)",
   "language": "C#",
   "name": ".net-csharp"
  },
  "language_info": {
   "name": "polyglot-notebook"
  },
  "polyglot_notebook": {
   "kernelInfo": {
    "defaultKernelName": "csharp",
    "items": [
     {
      "aliases": [],
      "languageName": "csharp",
      "name": "csharp"
     }
    ]
   }
  }
 },
 "nbformat": 4,
 "nbformat_minor": 2
}
