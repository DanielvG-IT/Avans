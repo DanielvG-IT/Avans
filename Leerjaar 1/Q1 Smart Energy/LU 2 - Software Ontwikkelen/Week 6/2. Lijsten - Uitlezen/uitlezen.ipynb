{
 "cells": [
  {
   "cell_type": "code",
   "execution_count": 1,
   "metadata": {
    "dotnet_interactive": {
     "language": "csharp"
    },
    "polyglot_notebook": {
     "kernelName": "csharp"
    }
   },
   "outputs": [],
   "source": []
  },
  {
   "cell_type": "markdown",
   "metadata": {},
   "source": [
    "## Uitlezen\n",
    "Soms krijg je een lijst binnen van een externe api. Deze lijst wil je dan uitlezen en weergeven. Een lijst met items kan uitgelezen worden middels een [for-loop](/herhalingsstructuren/for.ipynb) en [foreach](/herhalingsstructuren/foreach.ipynb). Een while-loop kan ook maar wordt niet gezien als best practice.\n",
    "Een voorbeeld van een for-loop implementatie is:  "
   ]
  },
  {
   "cell_type": "code",
   "execution_count": null,
   "metadata": {
    "dotnet_interactive": {
     "language": "csharp"
    },
    "polyglot_notebook": {
     "kernelName": "csharp"
    }
   },
   "outputs": [],
   "source": [
    "List<int> SolarProfits = new List<int>{10, 4, 9, 12, 90, 165};\n",
    "\n",
    "for(int i = 0; i < SolarProfits.Count; i++){\n",
    "    Console.WriteLine(SolarProfits[i]);\n",
    "}"
   ]
  },
  {
   "cell_type": "markdown",
   "metadata": {},
   "source": [
    "Hierboven zetten we i op 0 zodat de for-loop begint bij het eerste item. We willen dat i doorloopt zolang hij kleiner is dan `SolarProfits.Count`. Hier geeft count het aantal items in de lijst aan. Omdat de lijst altijd begint bij index 0, gaan de indexen altijd maar tot `SolarProfits.Count - 1`. Met `SolarProfits[i]` geven we aan welk item uit de lijst we willen. Deze wordt dan naar de Console geschreven.  \n",
    "\n",
    "De foreach-loop implementatie is als volgt:"
   ]
  },
  {
   "cell_type": "code",
   "execution_count": null,
   "metadata": {
    "dotnet_interactive": {
     "language": "csharp"
    },
    "polyglot_notebook": {
     "kernelName": "csharp"
    }
   },
   "outputs": [],
   "source": [
    "List<int> SolarProfits = new List<int>{10, 4, 9, 12, 90, 165};\n",
    "\n",
    "foreach(int profit in SolarProfits){\n",
    "    Console.WriteLine(profit);\n",
    "}"
   ]
  },
  {
   "cell_type": "markdown",
   "metadata": {},
   "source": [
    "Hier lopen we door elk item heen in `SolarProfits` en schrijven we de waarde naar de Console.\n",
    "Indien we een lossen waarde ergens in de lijst willen ophalen (bijv. het derde item in de lijst met antwoord 9), dan doen we dat als volgt:"
   ]
  },
  {
   "cell_type": "code",
   "execution_count": null,
   "metadata": {
    "dotnet_interactive": {
     "language": "csharp"
    },
    "polyglot_notebook": {
     "kernelName": "csharp"
    }
   },
   "outputs": [],
   "source": [
    "List<int> SolarProfits = new List<int>{10, 4, 9, 12, 90, 165};\n",
    "\n",
    "Console.WriteLine(SolarProfits[2]); // index 2 is het derde item in de list\n"
   ]
  },
  {
   "cell_type": "markdown",
   "metadata": {},
   "source": [
    "# Opdrachten"
   ]
  },
  {
   "cell_type": "markdown",
   "metadata": {},
   "source": [
    "## Opdracht 1\n",
    "Wat heb ik totaal opgewekt? Maak onderstaande code af:"
   ]
  },
  {
   "cell_type": "code",
   "execution_count": null,
   "metadata": {
    "dotnet_interactive": {
     "language": "csharp"
    },
    "polyglot_notebook": {
     "kernelName": "csharp"
    }
   },
   "outputs": [],
   "source": [
    "List<int> solarProfits = new List<int>{10, 4, 9, 12, 90, 165};\n",
    "int totalProfit;\n",
    "\n",
    "// Jouw code om de totale profit te berekenen.\n",
    "\n",
    "Console.WriteLine($\"De totale profit is: {totalProfit}\");"
   ]
  },
  {
   "cell_type": "markdown",
   "metadata": {},
   "source": [
    "## Opdracht 2\n",
    "Wat wek ik gemiddeld per week op?\n",
    "\n",
    "Je mag er vanuit gaan dat de lijst met SolarProfits altijd een veelvoud van 7 profits heeft. De eerste 7 profits horen bij week 1, de volgende 7 bij week 2 etc.. Stel we krijgen een lijst met 7 dagwaarden, dan bevat de lijst averageSolarProfits (na uitvoeren van jouw code) 1 waarde die het gemiddelde van de 7 is.\n",
    "Schrijf de code die de lijst solarProfits uitleest, het gemiddelde per 7 dagen berekent en de lijst averageSolarProfits vult.\n",
    "Om je te helpen is er al een stukje (pseudo)code weggegeven."
   ]
  },
  {
   "cell_type": "code",
   "execution_count": 2,
   "metadata": {
    "dotnet_interactive": {
     "language": "csharp"
    },
    "polyglot_notebook": {
     "kernelName": "csharp"
    }
   },
   "outputs": [],
   "source": [
    "List<int> solarProfits = new List<int>\n",
    "{\n",
    "    3, 15, 7, 12, 9, 20, 8, 14, 6, 18, 11, 5, 22, 10, 17, 4,\n",
    "    13, 19, 16, 21, 7, 9, 2, 29, 8, 33, 32, 15, 1, 17, 12, 11,\n",
    "    2, 4, 5, 3, 17, 17, 17, 12, 10, 12, 11, 10, 11, 11, 12, 22,\n",
    "    2, 4, 5, 2, 5, 6, 2, 7\n",
    "};\n",
    "\n",
    "List<double> averageSolarProfitWeek = [];\n",
    "\n",
    "int weeklyTotal;\n",
    "for (int i = 0; i < solarProfits.Count; i++)\n",
    "{\n",
    "    // hint:\n",
    "    // als ik in de gaten heb dat ik 7 dagen heb gehad\n",
    "        // sla weeklyTotal op in averageSolarProfitWeek\n",
    "        // reset weeklyTotal\n",
    "\n",
    "    weeklyTotal += solarProfits[i];\n",
    "}\n",
    "\n",
    "// Ter controle:\n",
    "// Aan het einde is de lijst solarProfits.Count / 7 lang.\n",
    "// Wellicht nog een nette console writeline met weektotalen!"
   ]
  }
 ],
 "metadata": {
  "kernelspec": {
   "display_name": ".NET (C#)",
   "language": "C#",
   "name": ".net-csharp"
  },
  "language_info": {
   "name": "polyglot-notebook"
  },
  "polyglot_notebook": {
   "kernelInfo": {
    "defaultKernelName": "csharp",
    "items": [
     {
      "aliases": [],
      "languageName": "csharp",
      "name": "csharp"
     }
    ]
   }
  }
 },
 "nbformat": 4,
 "nbformat_minor": 2
}
