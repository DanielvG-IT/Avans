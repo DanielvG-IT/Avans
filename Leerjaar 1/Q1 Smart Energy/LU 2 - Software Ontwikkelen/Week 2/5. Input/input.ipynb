{
 "cells": [
  {
   "cell_type": "markdown",
   "metadata": {},
   "source": [
    "# Console Input\n",
    "\n",
    "In een console kan een gebruiker ook informatie invoeren. Omdat de gebruiker eigenlijk alles kan typen, komt deze input altijd als string binnen in de applicatie. De interactieve console is echter niet beschikbaar binnen de C# notebooks, maar wel binnen de normale C# applicaties in Visual Studio Code en Visual Studio. "
   ]
  },
  {
   "cell_type": "markdown",
   "metadata": {},
   "source": [
    "## Visual Studio / Visual studio code\n",
    "\n",
    "Met `Console.ReadLine()` kan er een regel tekst uitgelezen worden. De inhoud van deze tekst moet natuurlijk opgeslagen worden. Met onderstaande code wordt de gebruiker om een input gevraagd, waarna deze input weer uitgeprint wordt.\n",
    "\n",
    "```csharp\n",
    "Console.WriteLine(\"Voer een stukje tekst in: \");\n",
    "string input = Console.ReadLine();\n",
    "Console.WriteLine(input);\n",
    "```\n",
    "\n",
    "Dit is dan natuurlijk als string, om deze om te zetten naar een integer om mee te kunnen rekenen, kun je het hoofdstuk 'Omzetten' in 'Variabelen/Expressies' doornemen."
   ]
  },
  {
   "cell_type": "markdown",
   "metadata": {},
   "source": [
    "## Visual Studio Code Notebook\n",
    "\n",
    "```csharp\n",
    "using Microsoft.DotNet.Interactive;\n",
    "string input = await Kernel.GetInputAsync(\"Pick a number.\");\n",
    "\n",
    "Console.WriteLine(input);\n",
    "```\n",
    "\n",
    "maar in een notebook kunnen ook variabelen gebruikt worden om een algoritme te testen\n",
    "\n",
    "```csharp\n",
    "int getal = 10;\n",
    "Console.WriteLine(getal);\n",
    "```\n"
   ]
  },
  {
   "cell_type": "markdown",
   "metadata": {},
   "source": [
    "## Opdracht 1\n",
    "\n",
    "Schrijf een algoritme dat de gebruiker om een naam vraagt, en dat hierna de naam in de console schrijft."
   ]
  },
  {
   "cell_type": "code",
   "execution_count": 3,
   "metadata": {
    "dotnet_interactive": {
     "language": "csharp"
    },
    "polyglot_notebook": {
     "kernelName": "csharp"
    }
   },
   "outputs": [
    {
     "name": "stdout",
     "output_type": "stream",
     "text": [
      "Hello her majesty the queen\r\n"
     ]
    }
   ],
   "source": [
    "using Microsoft.DotNet.Interactive;\n",
    "string input = await Kernel.GetInputAsync(\"Type your name!\");\n",
    "Console.WriteLine(\"Hello \" + input);"
   ]
  },
  {
   "cell_type": "markdown",
   "metadata": {},
   "source": [
    "## Opdracht 2\n",
    "\n",
    "Schrijf een algoritme dat de gebruiker om een jaartal vraagt, en dat hierna de leeftijd in de console schrijft. Je kunt van het huidige jaartal uitgaan, en dat de persoon al jarig is geweest."
   ]
  },
  {
   "cell_type": "code",
   "execution_count": 1,
   "metadata": {
    "dotnet_interactive": {
     "language": "csharp"
    },
    "polyglot_notebook": {
     "kernelName": "csharp"
    }
   },
   "outputs": [
    {
     "name": "stdout",
     "output_type": "stream",
     "text": [
      "You are 18 years old!\r\n"
     ]
    }
   ],
   "source": [
    "using Microsoft.DotNet.Interactive;\n",
    "string yearOfBirth = await Kernel.GetInputAsync(\"Type your year of birth!\");\n",
    "\n",
    "int age = DateTime.Now.Year - int.Parse(yearOfBirth);\n",
    "\n",
    "Console.WriteLine(\"You are \" + age + \" years old!\");"
   ]
  }
 ],
 "metadata": {
  "kernelspec": {
   "display_name": ".NET (C#)",
   "language": "C#",
   "name": ".net-csharp"
  },
  "language_info": {
   "name": "polyglot-notebook"
  },
  "polyglot_notebook": {
   "kernelInfo": {
    "defaultKernelName": "csharp",
    "items": [
     {
      "aliases": [],
      "languageName": "csharp",
      "name": "csharp"
     }
    ]
   }
  }
 },
 "nbformat": 4,
 "nbformat_minor": 2
}
